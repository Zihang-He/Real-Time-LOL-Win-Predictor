{
 "cells": [
  {
   "cell_type": "code",
   "execution_count": 285,
   "metadata": {},
   "outputs": [],
   "source": [
    "import numpy as np\n",
    "import pandas as pd\n",
    "import ast\n",
    "from collections import defaultdict\n",
    "from sklearn.model_selection import ParameterGrid,train_test_split\n",
    "import matplotlib.pyplot as plt\n",
    "import os"
   ]
  },
  {
   "cell_type": "code",
   "execution_count": 3,
   "metadata": {},
   "outputs": [
    {
     "data": {
      "text/html": [
       "<div>\n",
       "<style scoped>\n",
       "    .dataframe tbody tr th:only-of-type {\n",
       "        vertical-align: middle;\n",
       "    }\n",
       "\n",
       "    .dataframe tbody tr th {\n",
       "        vertical-align: top;\n",
       "    }\n",
       "\n",
       "    .dataframe thead th {\n",
       "        text-align: right;\n",
       "    }\n",
       "</style>\n",
       "<table border=\"1\" class=\"dataframe\">\n",
       "  <thead>\n",
       "    <tr style=\"text-align: right;\">\n",
       "      <th></th>\n",
       "      <th>League</th>\n",
       "      <th>Year</th>\n",
       "      <th>Season</th>\n",
       "      <th>Type</th>\n",
       "      <th>blueTeamTag</th>\n",
       "      <th>bResult</th>\n",
       "      <th>rResult</th>\n",
       "      <th>redTeamTag</th>\n",
       "      <th>gamelength</th>\n",
       "      <th>golddiff</th>\n",
       "      <th>...</th>\n",
       "      <th>redMiddleChamp</th>\n",
       "      <th>goldredMiddle</th>\n",
       "      <th>redADC</th>\n",
       "      <th>redADCChamp</th>\n",
       "      <th>goldredADC</th>\n",
       "      <th>redSupport</th>\n",
       "      <th>redSupportChamp</th>\n",
       "      <th>goldredSupport</th>\n",
       "      <th>redBans</th>\n",
       "      <th>Address</th>\n",
       "    </tr>\n",
       "  </thead>\n",
       "  <tbody>\n",
       "    <tr>\n",
       "      <th>0</th>\n",
       "      <td>NALCS</td>\n",
       "      <td>2015</td>\n",
       "      <td>Spring</td>\n",
       "      <td>Season</td>\n",
       "      <td>TSM</td>\n",
       "      <td>1</td>\n",
       "      <td>0</td>\n",
       "      <td>C9</td>\n",
       "      <td>40</td>\n",
       "      <td>[0, 0, -14, -65, -268, -431, -488, -789, -494,...</td>\n",
       "      <td>...</td>\n",
       "      <td>Fizz</td>\n",
       "      <td>[475, 475, 552, 842, 1178, 1378, 1635, 1949, 2...</td>\n",
       "      <td>Sneaky</td>\n",
       "      <td>Sivir</td>\n",
       "      <td>[475, 475, 532, 762, 1097, 1469, 1726, 2112, 2...</td>\n",
       "      <td>LemonNation</td>\n",
       "      <td>Thresh</td>\n",
       "      <td>[515, 515, 577, 722, 911, 1042, 1194, 1370, 14...</td>\n",
       "      <td>['Tristana', 'Leblanc', 'Nidalee']</td>\n",
       "      <td>http://matchhistory.na.leagueoflegends.com/en/...</td>\n",
       "    </tr>\n",
       "    <tr>\n",
       "      <th>1</th>\n",
       "      <td>NALCS</td>\n",
       "      <td>2015</td>\n",
       "      <td>Spring</td>\n",
       "      <td>Season</td>\n",
       "      <td>CST</td>\n",
       "      <td>0</td>\n",
       "      <td>1</td>\n",
       "      <td>DIG</td>\n",
       "      <td>38</td>\n",
       "      <td>[0, 0, -26, -18, 147, 237, -152, 18, 88, -242,...</td>\n",
       "      <td>...</td>\n",
       "      <td>Azir</td>\n",
       "      <td>[475, 475, 552, 786, 1097, 1389, 1660, 1955, 2...</td>\n",
       "      <td>CoreJJ</td>\n",
       "      <td>Corki</td>\n",
       "      <td>[475, 475, 532, 868, 1220, 1445, 1732, 1979, 2...</td>\n",
       "      <td>KiWiKiD</td>\n",
       "      <td>Annie</td>\n",
       "      <td>[515, 515, 583, 752, 900, 1066, 1236, 1417, 15...</td>\n",
       "      <td>['RekSai', 'Janna', 'Leblanc']</td>\n",
       "      <td>http://matchhistory.na.leagueoflegends.com/en/...</td>\n",
       "    </tr>\n",
       "  </tbody>\n",
       "</table>\n",
       "<p>2 rows × 57 columns</p>\n",
       "</div>"
      ],
      "text/plain": [
       "  League  Year  Season    Type blueTeamTag  bResult  rResult redTeamTag  \\\n",
       "0  NALCS  2015  Spring  Season         TSM        1        0         C9   \n",
       "1  NALCS  2015  Spring  Season         CST        0        1        DIG   \n",
       "\n",
       "   gamelength                                           golddiff  ...  \\\n",
       "0          40  [0, 0, -14, -65, -268, -431, -488, -789, -494,...  ...   \n",
       "1          38  [0, 0, -26, -18, 147, 237, -152, 18, 88, -242,...  ...   \n",
       "\n",
       "  redMiddleChamp                                      goldredMiddle  redADC  \\\n",
       "0           Fizz  [475, 475, 552, 842, 1178, 1378, 1635, 1949, 2...  Sneaky   \n",
       "1           Azir  [475, 475, 552, 786, 1097, 1389, 1660, 1955, 2...  CoreJJ   \n",
       "\n",
       "  redADCChamp                                         goldredADC   redSupport  \\\n",
       "0       Sivir  [475, 475, 532, 762, 1097, 1469, 1726, 2112, 2...  LemonNation   \n",
       "1       Corki  [475, 475, 532, 868, 1220, 1445, 1732, 1979, 2...      KiWiKiD   \n",
       "\n",
       "  redSupportChamp                                     goldredSupport  \\\n",
       "0          Thresh  [515, 515, 577, 722, 911, 1042, 1194, 1370, 14...   \n",
       "1           Annie  [515, 515, 583, 752, 900, 1066, 1236, 1417, 15...   \n",
       "\n",
       "                              redBans  \\\n",
       "0  ['Tristana', 'Leblanc', 'Nidalee']   \n",
       "1      ['RekSai', 'Janna', 'Leblanc']   \n",
       "\n",
       "                                             Address  \n",
       "0  http://matchhistory.na.leagueoflegends.com/en/...  \n",
       "1  http://matchhistory.na.leagueoflegends.com/en/...  \n",
       "\n",
       "[2 rows x 57 columns]"
      ]
     },
     "execution_count": 3,
     "metadata": {},
     "output_type": "execute_result"
    }
   ],
   "source": [
    "file_path = 'archive/LeagueofLegends.csv'\n",
    "full_data = pd.read_csv(file_path)\n",
    "head = full_data.head(2)\n",
    "head"
   ]
  },
  {
   "cell_type": "code",
   "execution_count": 4,
   "metadata": {},
   "outputs": [
    {
     "data": {
      "text/plain": [
       "Index(['League', 'Year', 'Season', 'Type', 'blueTeamTag', 'bResult', 'rResult',\n",
       "       'redTeamTag', 'gamelength', 'golddiff', 'goldblue', 'bKills', 'bTowers',\n",
       "       'bInhibs', 'bDragons', 'bBarons', 'bHeralds', 'goldred', 'rKills',\n",
       "       'rTowers', 'rInhibs', 'rDragons', 'rBarons', 'rHeralds', 'blueTop',\n",
       "       'blueTopChamp', 'goldblueTop', 'blueJungle', 'blueJungleChamp',\n",
       "       'goldblueJungle', 'blueMiddle', 'blueMiddleChamp', 'goldblueMiddle',\n",
       "       'blueADC', 'blueADCChamp', 'goldblueADC', 'blueSupport',\n",
       "       'blueSupportChamp', 'goldblueSupport', 'blueBans', 'redTop',\n",
       "       'redTopChamp', 'goldredTop', 'redJungle', 'redJungleChamp',\n",
       "       'goldredJungle', 'redMiddle', 'redMiddleChamp', 'goldredMiddle',\n",
       "       'redADC', 'redADCChamp', 'goldredADC', 'redSupport', 'redSupportChamp',\n",
       "       'goldredSupport', 'redBans', 'Address'],\n",
       "      dtype='object')"
      ]
     },
     "execution_count": 4,
     "metadata": {},
     "output_type": "execute_result"
    }
   ],
   "source": [
    "head.columns"
   ]
  },
  {
   "cell_type": "markdown",
   "metadata": {},
   "source": [
    "## Data Processing"
   ]
  },
  {
   "cell_type": "code",
   "execution_count": 6,
   "metadata": {},
   "outputs": [],
   "source": [
    "data = full_data[['bResult', 'golddiff', 'bKills', 'bTowers', 'bDragons', 'rKills', 'rTowers', 'rDragons']]"
   ]
  },
  {
   "cell_type": "code",
   "execution_count": 220,
   "metadata": {},
   "outputs": [
    {
     "data": {
      "text/html": [
       "<div>\n",
       "<style scoped>\n",
       "    .dataframe tbody tr th:only-of-type {\n",
       "        vertical-align: middle;\n",
       "    }\n",
       "\n",
       "    .dataframe tbody tr th {\n",
       "        vertical-align: top;\n",
       "    }\n",
       "\n",
       "    .dataframe thead th {\n",
       "        text-align: right;\n",
       "    }\n",
       "</style>\n",
       "<table border=\"1\" class=\"dataframe\">\n",
       "  <thead>\n",
       "    <tr style=\"text-align: right;\">\n",
       "      <th></th>\n",
       "      <th>bResult</th>\n",
       "      <th>golddiff</th>\n",
       "      <th>bKills</th>\n",
       "      <th>bTowers</th>\n",
       "      <th>bDragons</th>\n",
       "      <th>rKills</th>\n",
       "      <th>rTowers</th>\n",
       "      <th>rDragons</th>\n",
       "      <th>kill_events</th>\n",
       "      <th>dragon_events</th>\n",
       "      <th>tower_events</th>\n",
       "      <th>combined_events</th>\n",
       "      <th>gold_events</th>\n",
       "    </tr>\n",
       "  </thead>\n",
       "  <tbody>\n",
       "    <tr>\n",
       "      <th>0</th>\n",
       "      <td>1</td>\n",
       "      <td>[0, 0, -14, -65, -268, -431, -488, -789, -494,...</td>\n",
       "      <td>[[10.82, 'C9 Hai', 'TSM Bjergsen', [], 9229, 8...</td>\n",
       "      <td>[[27.542, 'MID_LANE', 'BASE_TURRET'], [39.269,...</td>\n",
       "      <td>[[37.267, None]]</td>\n",
       "      <td>[[16.529, 'TSM Lustboy', 'C9 Balls', ['C9 Mete...</td>\n",
       "      <td>[[39.23, 'TOP_LANE', 'INNER_TURRET'], [20.681,...</td>\n",
       "      <td>[[17.14, None], [30.934, None], [24.641, None]]</td>\n",
       "      <td>[(10.82, (0, 1)), (16.286, (0, 2)), (16.529, (...</td>\n",
       "      <td>[(17.14, (1, 0)), (24.641, (2, 0)), (30.934, (...</td>\n",
       "      <td>[(15.014, (0, 1)), (15.217, (0, 2)), (15.288, ...</td>\n",
       "      <td>[(0, 0, g), (1, 0, g), (2, -1, g), (3, -1, g),...</td>\n",
       "      <td>[(0, 0), (1, 0), (2, -1), (3, -1), (4, -3), (5...</td>\n",
       "    </tr>\n",
       "    <tr>\n",
       "      <th>1</th>\n",
       "      <td>0</td>\n",
       "      <td>[0, 0, -26, -18, 147, 237, -152, 18, 88, -242,...</td>\n",
       "      <td>[[11.104, 'DIG Shiphtur', 'CST Jesiz', ['CST I...</td>\n",
       "      <td>[[23.239, 'BOT_LANE', 'OUTER_TURRET'], [33.018...</td>\n",
       "      <td>[[32.545, None], [26.177, None], [19.119, None]]</td>\n",
       "      <td>[[12.387, 'CST Jesiz', 'DIG Gamsu', ['DIG Ship...</td>\n",
       "      <td>[[19.257, 'MID_LANE', 'OUTER_TURRET'], [15.206...</td>\n",
       "      <td>[[12.264, None]]</td>\n",
       "      <td>[(11.104, (0, 1)), (12.332, (0, 2)), (12.387, ...</td>\n",
       "      <td>[(12.264, (1, 0)), (19.119, (1, 1)), (26.177, ...</td>\n",
       "      <td>[(15.206, (1, 0)), (15.306, (1, 1)), (19.257, ...</td>\n",
       "      <td>[(0, 0, g), (1, 0, g), (2, -1, g), (3, -1, g),...</td>\n",
       "      <td>[(0, 0), (1, 0), (2, -1), (3, -1), (4, 1), (5,...</td>\n",
       "    </tr>\n",
       "    <tr>\n",
       "      <th>2</th>\n",
       "      <td>1</td>\n",
       "      <td>[0, 0, 10, -60, 34, 37, 589, 1064, 1258, 913, ...</td>\n",
       "      <td>[[5.255, 'GV Keane', 'WFX Pobelter', ['WFX Sho...</td>\n",
       "      <td>[[15.045, 'BOT_LANE', 'OUTER_TURRET'], [39.566...</td>\n",
       "      <td>[[24.577, None], [37.867, None], [30.87, None]...</td>\n",
       "      <td>[[8.449, 'WFX Altec', 'GV Cop', ['GV BunnyFuFu...</td>\n",
       "      <td>[[24.62, 'MID_LANE', 'OUTER_TURRET'], [30.493,...</td>\n",
       "      <td>[]</td>\n",
       "      <td>[(5.255, (0, 1)), (6.351, (0, 2)), (8.449, (1,...</td>\n",
       "      <td>[(18.255, (0, 1)), (24.577, (0, 2)), (30.87, (...</td>\n",
       "      <td>[(15.045, (0, 1)), (17.34, (0, 2)), (18.294, (...</td>\n",
       "      <td>[(0, 0, g), (1, 0, g), (2, 0, g), (3, -1, g), ...</td>\n",
       "      <td>[(0, 0), (1, 0), (2, 0), (3, -1), (4, 0), (5, ...</td>\n",
       "    </tr>\n",
       "    <tr>\n",
       "      <th>3</th>\n",
       "      <td>0</td>\n",
       "      <td>[0, 0, -15, 25, 228, -6, -243, 175, -346, 16, ...</td>\n",
       "      <td>[[8.274, 'TL Quas', 'TIP Rhux', ['TIP Apollo']...</td>\n",
       "      <td>[[19.941, 'BOT_LANE', 'OUTER_TURRET'], [38.77,...</td>\n",
       "      <td>[]</td>\n",
       "      <td>[[7.768, 'TIP Rush', 'TL IWDominate', ['TL Fen...</td>\n",
       "      <td>[[36.384, 'MID_LANE', 'NEXUS_TURRET'], [31.665...</td>\n",
       "      <td>[[26.274, None], [10.153, None], [18.515, None...</td>\n",
       "      <td>[(7.768, (1, 0)), (8.274, (1, 1)), (9.681, (2,...</td>\n",
       "      <td>[(10.153, (1, 0)), (18.515, (2, 0)), (26.274, ...</td>\n",
       "      <td>[(18.541, (0, 1)), (19.122, (1, 1)), (19.941, ...</td>\n",
       "      <td>[(0, 0, g), (1, 0, g), (2, -1, g), (3, 0, g), ...</td>\n",
       "      <td>[(0, 0), (1, 0), (2, -1), (3, 0), (4, 2), (5, ...</td>\n",
       "    </tr>\n",
       "    <tr>\n",
       "      <th>4</th>\n",
       "      <td>1</td>\n",
       "      <td>[40, 40, 44, -36, 113, 158, -121, -191, 23, 20...</td>\n",
       "      <td>[[11.438, 'T8 Dodo8', 'CLG Doublelift', ['CLG ...</td>\n",
       "      <td>[[22.594, 'MID_LANE', 'OUTER_TURRET'], [34.213...</td>\n",
       "      <td>[[14.589, None], [30.307, None]]</td>\n",
       "      <td>[[11.988, 'CLG Doublelift', 'T8 Porpoise8', ['...</td>\n",
       "      <td>[[11.644, 'MID_LANE', 'OUTER_TURRET'], [12.438...</td>\n",
       "      <td>[[21.901, None]]</td>\n",
       "      <td>[(11.438, (0, 1)), (11.988, (1, 1)), (21.451, ...</td>\n",
       "      <td>[(14.589, (0, 1)), (21.901, (1, 1)), (30.307, ...</td>\n",
       "      <td>[(11.644, (1, 0)), (12.438, (2, 0)), (14.976, ...</td>\n",
       "      <td>[(0, 0, g), (1, 0, g), (2, 0, g), (3, -1, g), ...</td>\n",
       "      <td>[(0, 0), (1, 0), (2, 0), (3, -1), (4, 1), (5, ...</td>\n",
       "    </tr>\n",
       "    <tr>\n",
       "      <th>...</th>\n",
       "      <td>...</td>\n",
       "      <td>...</td>\n",
       "      <td>...</td>\n",
       "      <td>...</td>\n",
       "      <td>...</td>\n",
       "      <td>...</td>\n",
       "      <td>...</td>\n",
       "      <td>...</td>\n",
       "      <td>...</td>\n",
       "      <td>...</td>\n",
       "      <td>...</td>\n",
       "      <td>...</td>\n",
       "      <td>...</td>\n",
       "    </tr>\n",
       "    <tr>\n",
       "      <th>7615</th>\n",
       "      <td>0</td>\n",
       "      <td>[0, 0, -18, -95, 45, -87, -117, 199, 126, 92, ...</td>\n",
       "      <td>[[9.158, 'SUP SnowFlower', 'YC CoCo', ['YC Moj...</td>\n",
       "      <td>[[12.448, 'BOT_LANE', 'OUTER_TURRET'], [27.646...</td>\n",
       "      <td>[]</td>\n",
       "      <td>[[12.593, 'YC Mojito', 'SUP GBM', ['SUP Stomag...</td>\n",
       "      <td>[[25.005, 'TOP_LANE', 'OUTER_TURRET'], [18.149...</td>\n",
       "      <td>[[10.135, 'FIRE_DRAGON'], [26.468, 'AIR_DRAGON...</td>\n",
       "      <td>[(9.158, (0, 1)), (9.188, (0, 2)), (12.593, (1...</td>\n",
       "      <td>[(10.135, (1, 0)), (18.424, (2, 0)), (26.468, ...</td>\n",
       "      <td>[(12.448, (0, 1)), (18.149, (1, 1)), (21.099, ...</td>\n",
       "      <td>[(0, 0, g), (1, 0, g), (2, -1, g), (3, -1, g),...</td>\n",
       "      <td>[(0, 0), (1, 0), (2, -1), (3, -1), (4, 0), (5,...</td>\n",
       "    </tr>\n",
       "    <tr>\n",
       "      <th>7616</th>\n",
       "      <td>0</td>\n",
       "      <td>[0, 0, -86, -39, -207, -349, -60, -140, 187, -...</td>\n",
       "      <td>[[17.174, 'DP Marshall', 'GAL Rare', ['GAL Vik...</td>\n",
       "      <td>[[23.085, 'BOT_LANE', 'INNER_TURRET'], [17.368...</td>\n",
       "      <td>[[18.322, 'WATER_DRAGON'], [25.473, 'AIR_DRAGO...</td>\n",
       "      <td>[[3.361, 'GAL Veux', 'DP KaKAO', ['DP Ruvelius...</td>\n",
       "      <td>[[38.311, 'MID_LANE', 'NEXUS_TURRET'], [10.572...</td>\n",
       "      <td>[[32.015, 'FIRE_DRAGON'], [11.743, 'FIRE_DRAGO...</td>\n",
       "      <td>[(3.361, (1, 0)), (8.085, (2, 0)), (11.22, (3,...</td>\n",
       "      <td>[(11.743, (1, 0)), (18.322, (1, 1)), (25.473, ...</td>\n",
       "      <td>[(10.572, (1, 0)), (13.555, (2, 0)), (16.623, ...</td>\n",
       "      <td>[(0, 0, g), (1, 0, g), (2, -1, g), (3, -1, g),...</td>\n",
       "      <td>[(0, 0), (1, 0), (2, -1), (3, -1), (4, -3), (5...</td>\n",
       "    </tr>\n",
       "    <tr>\n",
       "      <th>7617</th>\n",
       "      <td>0</td>\n",
       "      <td>[0, -8, -6, 116, 103, -92, -470, -958, -1998, ...</td>\n",
       "      <td>[[13.534, 'DW Cupcake', 'SIN Bdoink', ['SIN Ju...</td>\n",
       "      <td>[]</td>\n",
       "      <td>[]</td>\n",
       "      <td>[[6.996, 'SIN Juves', 'DW Chippys', ['DW Prael...</td>\n",
       "      <td>[[22.854, 'TOP_LANE', 'BASE_TURRET'], [23.285,...</td>\n",
       "      <td>[[8.858, 'WATER_DRAGON'], [15.513, 'EARTH_DRAG...</td>\n",
       "      <td>[(6.996, (1, 0)), (7.703, (2, 0)), (10.276, (3...</td>\n",
       "      <td>[(8.858, (1, 0)), (15.513, (2, 0))]</td>\n",
       "      <td>[(10.662, (1, 0)), (13.845, (2, 0)), (14.361, ...</td>\n",
       "      <td>[(0, 0, g), (1, -1, g), (2, -1, g), (3, 1, g),...</td>\n",
       "      <td>[(0, 0), (1, -1), (2, -1), (3, 1), (4, 1), (5,...</td>\n",
       "    </tr>\n",
       "    <tr>\n",
       "      <th>7618</th>\n",
       "      <td>1</td>\n",
       "      <td>[0, 0, -97, 33, 351, 284, 299, 263, 403, 623, ...</td>\n",
       "      <td>[[3.055, 'TTC Swathe', 'LGC Sybol', [], 9751, ...</td>\n",
       "      <td>[[22.043, 'TOP_LANE', 'OUTER_TURRET'], [24.727...</td>\n",
       "      <td>[[12.083, 'AIR_DRAGON'], [18.238, 'FIRE_DRAGON...</td>\n",
       "      <td>[[13.399, 'LGC Sybol', 'TTC Shok', ['TTC Swath...</td>\n",
       "      <td>[[32.793, 'BOT_LANE', 'INNER_TURRET'], [22.866...</td>\n",
       "      <td>[]</td>\n",
       "      <td>[(3.055, (0, 1)), (13.38, (0, 2)), (13.399, (1...</td>\n",
       "      <td>[(12.083, (0, 1)), (18.238, (0, 2)), (24.431, ...</td>\n",
       "      <td>[(17.7, (0, 1)), (18.855, (1, 1)), (18.946, (1...</td>\n",
       "      <td>[(0, 0, g), (1, 0, g), (2, -1, g), (3, 0, g), ...</td>\n",
       "      <td>[(0, 0), (1, 0), (2, -1), (3, 0), (4, 3), (5, ...</td>\n",
       "    </tr>\n",
       "    <tr>\n",
       "      <th>7619</th>\n",
       "      <td>0</td>\n",
       "      <td>[0, 0, -8, -225, -36, 73, 464, 184, 1171, 1409...</td>\n",
       "      <td>[[7.68, 'LGC Sybol', 'TTC Swathe', ['TTC Papry...</td>\n",
       "      <td>[[18.042, 'BOT_LANE', 'OUTER_TURRET'], [13.644...</td>\n",
       "      <td>[[22.787, 'FIRE_DRAGON']]</td>\n",
       "      <td>[[10.327, 'TTC Papryze', 'LGC Ceres', ['LGC Sy...</td>\n",
       "      <td>[[32.298, 'MID_LANE', 'INNER_TURRET'], [40.779...</td>\n",
       "      <td>[[35.963, 'ELDER_DRAGON'], [29.624, 'AIR_DRAGO...</td>\n",
       "      <td>[(7.68, (0, 1)), (10.304, (0, 2)), (10.327, (1...</td>\n",
       "      <td>[(16.217, (1, 0)), (22.787, (1, 1)), (29.624, ...</td>\n",
       "      <td>[(13.564, (1, 0)), (13.644, (1, 1)), (13.663, ...</td>\n",
       "      <td>[(0, 0, g), (1, 0, g), (2, -1, g), (3, -3, g),...</td>\n",
       "      <td>[(0, 0), (1, 0), (2, -1), (3, -3), (4, -1), (5...</td>\n",
       "    </tr>\n",
       "  </tbody>\n",
       "</table>\n",
       "<p>7620 rows × 13 columns</p>\n",
       "</div>"
      ],
      "text/plain": [
       "      bResult                                           golddiff  \\\n",
       "0           1  [0, 0, -14, -65, -268, -431, -488, -789, -494,...   \n",
       "1           0  [0, 0, -26, -18, 147, 237, -152, 18, 88, -242,...   \n",
       "2           1  [0, 0, 10, -60, 34, 37, 589, 1064, 1258, 913, ...   \n",
       "3           0  [0, 0, -15, 25, 228, -6, -243, 175, -346, 16, ...   \n",
       "4           1  [40, 40, 44, -36, 113, 158, -121, -191, 23, 20...   \n",
       "...       ...                                                ...   \n",
       "7615        0  [0, 0, -18, -95, 45, -87, -117, 199, 126, 92, ...   \n",
       "7616        0  [0, 0, -86, -39, -207, -349, -60, -140, 187, -...   \n",
       "7617        0  [0, -8, -6, 116, 103, -92, -470, -958, -1998, ...   \n",
       "7618        1  [0, 0, -97, 33, 351, 284, 299, 263, 403, 623, ...   \n",
       "7619        0  [0, 0, -8, -225, -36, 73, 464, 184, 1171, 1409...   \n",
       "\n",
       "                                                 bKills  \\\n",
       "0     [[10.82, 'C9 Hai', 'TSM Bjergsen', [], 9229, 8...   \n",
       "1     [[11.104, 'DIG Shiphtur', 'CST Jesiz', ['CST I...   \n",
       "2     [[5.255, 'GV Keane', 'WFX Pobelter', ['WFX Sho...   \n",
       "3     [[8.274, 'TL Quas', 'TIP Rhux', ['TIP Apollo']...   \n",
       "4     [[11.438, 'T8 Dodo8', 'CLG Doublelift', ['CLG ...   \n",
       "...                                                 ...   \n",
       "7615  [[9.158, 'SUP SnowFlower', 'YC CoCo', ['YC Moj...   \n",
       "7616  [[17.174, 'DP Marshall', 'GAL Rare', ['GAL Vik...   \n",
       "7617  [[13.534, 'DW Cupcake', 'SIN Bdoink', ['SIN Ju...   \n",
       "7618  [[3.055, 'TTC Swathe', 'LGC Sybol', [], 9751, ...   \n",
       "7619  [[7.68, 'LGC Sybol', 'TTC Swathe', ['TTC Papry...   \n",
       "\n",
       "                                                bTowers  \\\n",
       "0     [[27.542, 'MID_LANE', 'BASE_TURRET'], [39.269,...   \n",
       "1     [[23.239, 'BOT_LANE', 'OUTER_TURRET'], [33.018...   \n",
       "2     [[15.045, 'BOT_LANE', 'OUTER_TURRET'], [39.566...   \n",
       "3     [[19.941, 'BOT_LANE', 'OUTER_TURRET'], [38.77,...   \n",
       "4     [[22.594, 'MID_LANE', 'OUTER_TURRET'], [34.213...   \n",
       "...                                                 ...   \n",
       "7615  [[12.448, 'BOT_LANE', 'OUTER_TURRET'], [27.646...   \n",
       "7616  [[23.085, 'BOT_LANE', 'INNER_TURRET'], [17.368...   \n",
       "7617                                                 []   \n",
       "7618  [[22.043, 'TOP_LANE', 'OUTER_TURRET'], [24.727...   \n",
       "7619  [[18.042, 'BOT_LANE', 'OUTER_TURRET'], [13.644...   \n",
       "\n",
       "                                               bDragons  \\\n",
       "0                                      [[37.267, None]]   \n",
       "1      [[32.545, None], [26.177, None], [19.119, None]]   \n",
       "2     [[24.577, None], [37.867, None], [30.87, None]...   \n",
       "3                                                    []   \n",
       "4                      [[14.589, None], [30.307, None]]   \n",
       "...                                                 ...   \n",
       "7615                                                 []   \n",
       "7616  [[18.322, 'WATER_DRAGON'], [25.473, 'AIR_DRAGO...   \n",
       "7617                                                 []   \n",
       "7618  [[12.083, 'AIR_DRAGON'], [18.238, 'FIRE_DRAGON...   \n",
       "7619                          [[22.787, 'FIRE_DRAGON']]   \n",
       "\n",
       "                                                 rKills  \\\n",
       "0     [[16.529, 'TSM Lustboy', 'C9 Balls', ['C9 Mete...   \n",
       "1     [[12.387, 'CST Jesiz', 'DIG Gamsu', ['DIG Ship...   \n",
       "2     [[8.449, 'WFX Altec', 'GV Cop', ['GV BunnyFuFu...   \n",
       "3     [[7.768, 'TIP Rush', 'TL IWDominate', ['TL Fen...   \n",
       "4     [[11.988, 'CLG Doublelift', 'T8 Porpoise8', ['...   \n",
       "...                                                 ...   \n",
       "7615  [[12.593, 'YC Mojito', 'SUP GBM', ['SUP Stomag...   \n",
       "7616  [[3.361, 'GAL Veux', 'DP KaKAO', ['DP Ruvelius...   \n",
       "7617  [[6.996, 'SIN Juves', 'DW Chippys', ['DW Prael...   \n",
       "7618  [[13.399, 'LGC Sybol', 'TTC Shok', ['TTC Swath...   \n",
       "7619  [[10.327, 'TTC Papryze', 'LGC Ceres', ['LGC Sy...   \n",
       "\n",
       "                                                rTowers  \\\n",
       "0     [[39.23, 'TOP_LANE', 'INNER_TURRET'], [20.681,...   \n",
       "1     [[19.257, 'MID_LANE', 'OUTER_TURRET'], [15.206...   \n",
       "2     [[24.62, 'MID_LANE', 'OUTER_TURRET'], [30.493,...   \n",
       "3     [[36.384, 'MID_LANE', 'NEXUS_TURRET'], [31.665...   \n",
       "4     [[11.644, 'MID_LANE', 'OUTER_TURRET'], [12.438...   \n",
       "...                                                 ...   \n",
       "7615  [[25.005, 'TOP_LANE', 'OUTER_TURRET'], [18.149...   \n",
       "7616  [[38.311, 'MID_LANE', 'NEXUS_TURRET'], [10.572...   \n",
       "7617  [[22.854, 'TOP_LANE', 'BASE_TURRET'], [23.285,...   \n",
       "7618  [[32.793, 'BOT_LANE', 'INNER_TURRET'], [22.866...   \n",
       "7619  [[32.298, 'MID_LANE', 'INNER_TURRET'], [40.779...   \n",
       "\n",
       "                                               rDragons  \\\n",
       "0       [[17.14, None], [30.934, None], [24.641, None]]   \n",
       "1                                      [[12.264, None]]   \n",
       "2                                                    []   \n",
       "3     [[26.274, None], [10.153, None], [18.515, None...   \n",
       "4                                      [[21.901, None]]   \n",
       "...                                                 ...   \n",
       "7615  [[10.135, 'FIRE_DRAGON'], [26.468, 'AIR_DRAGON...   \n",
       "7616  [[32.015, 'FIRE_DRAGON'], [11.743, 'FIRE_DRAGO...   \n",
       "7617  [[8.858, 'WATER_DRAGON'], [15.513, 'EARTH_DRAG...   \n",
       "7618                                                 []   \n",
       "7619  [[35.963, 'ELDER_DRAGON'], [29.624, 'AIR_DRAGO...   \n",
       "\n",
       "                                            kill_events  \\\n",
       "0     [(10.82, (0, 1)), (16.286, (0, 2)), (16.529, (...   \n",
       "1     [(11.104, (0, 1)), (12.332, (0, 2)), (12.387, ...   \n",
       "2     [(5.255, (0, 1)), (6.351, (0, 2)), (8.449, (1,...   \n",
       "3     [(7.768, (1, 0)), (8.274, (1, 1)), (9.681, (2,...   \n",
       "4     [(11.438, (0, 1)), (11.988, (1, 1)), (21.451, ...   \n",
       "...                                                 ...   \n",
       "7615  [(9.158, (0, 1)), (9.188, (0, 2)), (12.593, (1...   \n",
       "7616  [(3.361, (1, 0)), (8.085, (2, 0)), (11.22, (3,...   \n",
       "7617  [(6.996, (1, 0)), (7.703, (2, 0)), (10.276, (3...   \n",
       "7618  [(3.055, (0, 1)), (13.38, (0, 2)), (13.399, (1...   \n",
       "7619  [(7.68, (0, 1)), (10.304, (0, 2)), (10.327, (1...   \n",
       "\n",
       "                                          dragon_events  \\\n",
       "0     [(17.14, (1, 0)), (24.641, (2, 0)), (30.934, (...   \n",
       "1     [(12.264, (1, 0)), (19.119, (1, 1)), (26.177, ...   \n",
       "2     [(18.255, (0, 1)), (24.577, (0, 2)), (30.87, (...   \n",
       "3     [(10.153, (1, 0)), (18.515, (2, 0)), (26.274, ...   \n",
       "4     [(14.589, (0, 1)), (21.901, (1, 1)), (30.307, ...   \n",
       "...                                                 ...   \n",
       "7615  [(10.135, (1, 0)), (18.424, (2, 0)), (26.468, ...   \n",
       "7616  [(11.743, (1, 0)), (18.322, (1, 1)), (25.473, ...   \n",
       "7617                [(8.858, (1, 0)), (15.513, (2, 0))]   \n",
       "7618  [(12.083, (0, 1)), (18.238, (0, 2)), (24.431, ...   \n",
       "7619  [(16.217, (1, 0)), (22.787, (1, 1)), (29.624, ...   \n",
       "\n",
       "                                           tower_events  \\\n",
       "0     [(15.014, (0, 1)), (15.217, (0, 2)), (15.288, ...   \n",
       "1     [(15.206, (1, 0)), (15.306, (1, 1)), (19.257, ...   \n",
       "2     [(15.045, (0, 1)), (17.34, (0, 2)), (18.294, (...   \n",
       "3     [(18.541, (0, 1)), (19.122, (1, 1)), (19.941, ...   \n",
       "4     [(11.644, (1, 0)), (12.438, (2, 0)), (14.976, ...   \n",
       "...                                                 ...   \n",
       "7615  [(12.448, (0, 1)), (18.149, (1, 1)), (21.099, ...   \n",
       "7616  [(10.572, (1, 0)), (13.555, (2, 0)), (16.623, ...   \n",
       "7617  [(10.662, (1, 0)), (13.845, (2, 0)), (14.361, ...   \n",
       "7618  [(17.7, (0, 1)), (18.855, (1, 1)), (18.946, (1...   \n",
       "7619  [(13.564, (1, 0)), (13.644, (1, 1)), (13.663, ...   \n",
       "\n",
       "                                        combined_events  \\\n",
       "0     [(0, 0, g), (1, 0, g), (2, -1, g), (3, -1, g),...   \n",
       "1     [(0, 0, g), (1, 0, g), (2, -1, g), (3, -1, g),...   \n",
       "2     [(0, 0, g), (1, 0, g), (2, 0, g), (3, -1, g), ...   \n",
       "3     [(0, 0, g), (1, 0, g), (2, -1, g), (3, 0, g), ...   \n",
       "4     [(0, 0, g), (1, 0, g), (2, 0, g), (3, -1, g), ...   \n",
       "...                                                 ...   \n",
       "7615  [(0, 0, g), (1, 0, g), (2, -1, g), (3, -1, g),...   \n",
       "7616  [(0, 0, g), (1, 0, g), (2, -1, g), (3, -1, g),...   \n",
       "7617  [(0, 0, g), (1, -1, g), (2, -1, g), (3, 1, g),...   \n",
       "7618  [(0, 0, g), (1, 0, g), (2, -1, g), (3, 0, g), ...   \n",
       "7619  [(0, 0, g), (1, 0, g), (2, -1, g), (3, -3, g),...   \n",
       "\n",
       "                                            gold_events  \n",
       "0     [(0, 0), (1, 0), (2, -1), (3, -1), (4, -3), (5...  \n",
       "1     [(0, 0), (1, 0), (2, -1), (3, -1), (4, 1), (5,...  \n",
       "2     [(0, 0), (1, 0), (2, 0), (3, -1), (4, 0), (5, ...  \n",
       "3     [(0, 0), (1, 0), (2, -1), (3, 0), (4, 2), (5, ...  \n",
       "4     [(0, 0), (1, 0), (2, 0), (3, -1), (4, 1), (5, ...  \n",
       "...                                                 ...  \n",
       "7615  [(0, 0), (1, 0), (2, -1), (3, -1), (4, 0), (5,...  \n",
       "7616  [(0, 0), (1, 0), (2, -1), (3, -1), (4, -3), (5...  \n",
       "7617  [(0, 0), (1, -1), (2, -1), (3, 1), (4, 1), (5,...  \n",
       "7618  [(0, 0), (1, 0), (2, -1), (3, 0), (4, 3), (5, ...  \n",
       "7619  [(0, 0), (1, 0), (2, -1), (3, -3), (4, -1), (5...  \n",
       "\n",
       "[7620 rows x 13 columns]"
      ]
     },
     "execution_count": 220,
     "metadata": {},
     "output_type": "execute_result"
    }
   ],
   "source": [
    "data"
   ]
  },
  {
   "cell_type": "code",
   "execution_count": 141,
   "metadata": {},
   "outputs": [],
   "source": [
    "train_data, test_data = train_test_split(data, test_size=0.1, random_state=42)"
   ]
  },
  {
   "cell_type": "markdown",
   "metadata": {},
   "source": [
    "### For rKills"
   ]
  },
  {
   "cell_type": "code",
   "execution_count": 7,
   "metadata": {},
   "outputs": [],
   "source": [
    "def expand_rKills_with_details(row):\n",
    "    expanded_rows = []\n",
    "    current_head_diff = 0  # Initialize or calculate based on your logic\n",
    "\n",
    "    for kill in row['rKills']:\n",
    "        kill = ast.literal_eval(kill)\n",
    "        new_row = row.to_dict()  # Copy the current row\n",
    "        timestamp = kill[0]\n",
    "        # Example head difference update logic (simplified)\n",
    "        current_head_diff += 1  # Increment head difference for each red kill\n",
    "        new_head_diff = current_head_diff + 1  # Assuming each kill increases the head diff\n",
    "        \n",
    "        new_row['single_rKill'] = f\"{timestamp}, ({current_head_diff},{new_head_diff})\"\n",
    "        \n",
    "        expanded_rows.append(new_row)\n",
    "        \n",
    "    return expanded_rows"
   ]
  },
  {
   "cell_type": "code",
   "execution_count": 8,
   "metadata": {},
   "outputs": [
    {
     "data": {
      "text/plain": [
       "[16.529,\n",
       " 'TSM Lustboy',\n",
       " 'C9 Balls',\n",
       " ['C9 Meteos', 'C9 Hai', 'C9 Sneaky'],\n",
       " 10782,\n",
       " 5030]"
      ]
     },
     "execution_count": 8,
     "metadata": {},
     "output_type": "execute_result"
    }
   ],
   "source": [
    "ast.literal_eval(train_data.iloc[0]['rKills'])[0]"
   ]
  },
  {
   "cell_type": "code",
   "execution_count": 9,
   "metadata": {},
   "outputs": [],
   "source": [
    "timeval = 1"
   ]
  },
  {
   "cell_type": "code",
   "execution_count": 10,
   "metadata": {},
   "outputs": [],
   "source": [
    "def process_kills(row):\n",
    "    # Initialize counters\n",
    "    rKill_count = 0\n",
    "    bKill_count = 0\n",
    "    kill_events = []\n",
    "    \n",
    "    # Combine and sort kills by timestamp\n",
    "    all_kills = [{'time': kill[0], 'team': 'r', 'details': kill} for kill in ast.literal_eval(row['rKills'])]\n",
    "    all_kills += [{'time': kill[0], 'team': 'b', 'details': kill} for kill in ast.literal_eval(row['bKills'])]\n",
    "    all_kills = sorted(all_kills, key=lambda x: x['time'])\n",
    "    \n",
    "    # Iterate through combined kills\n",
    "    for kill in all_kills:\n",
    "        if kill['team'] == 'r':\n",
    "            rKill_count += 1\n",
    "        else:\n",
    "            bKill_count += 1\n",
    "        kill_events.append((kill['time'], (rKill_count, bKill_count)))\n",
    "    \n",
    "    return kill_events"
   ]
  },
  {
   "cell_type": "code",
   "execution_count": 142,
   "metadata": {},
   "outputs": [
    {
     "name": "stderr",
     "output_type": "stream",
     "text": [
      "/Users/hezihang/opt/anaconda3/lib/python3.7/site-packages/ipykernel_launcher.py:1: SettingWithCopyWarning: \n",
      "A value is trying to be set on a copy of a slice from a DataFrame.\n",
      "Try using .loc[row_indexer,col_indexer] = value instead\n",
      "\n",
      "See the caveats in the documentation: https://pandas.pydata.org/pandas-docs/stable/user_guide/indexing.html#returning-a-view-versus-a-copy\n",
      "  \"\"\"Entry point for launching an IPython kernel.\n"
     ]
    }
   ],
   "source": [
    "data['kill_events'] = data.apply(process_kills, axis=1)"
   ]
  },
  {
   "cell_type": "code",
   "execution_count": 143,
   "metadata": {},
   "outputs": [],
   "source": [
    "def expand_rows_based_on_kills(original_df):\n",
    "    # List to hold the expanded rows\n",
    "    expanded_rows = []\n",
    "\n",
    "    # Iterate through each row in the original DataFrame\n",
    "    for _, row in original_df.iterrows():\n",
    "        # Access the kill_events for the current row\n",
    "        kill_events = row['kill_events']\n",
    "        \n",
    "        # Iterate through each kill event\n",
    "        for event in kill_events:\n",
    "            # Create a new row from the current row, but as a dict to modify it\n",
    "            new_row = row.to_dict()\n",
    "            \n",
    "            # Add the single_kill_event details for this kill\n",
    "            new_row['single_kill_event'] = event\n",
    "            \n",
    "            # Append the modified row to the list of expanded rows\n",
    "            expanded_rows.append(new_row)\n",
    "    \n",
    "    # Create a new DataFrame from the expanded rows\n",
    "    expanded_df = pd.DataFrame(expanded_rows)\n",
    "    \n",
    "    return expanded_df"
   ]
  },
  {
   "cell_type": "code",
   "execution_count": 144,
   "metadata": {},
   "outputs": [],
   "source": [
    "data_expanded_kills = expand_rows_based_on_kills(train_data)"
   ]
  },
  {
   "cell_type": "code",
   "execution_count": 145,
   "metadata": {},
   "outputs": [],
   "source": [
    "def time_stages(df, time_range=timeval):\n",
    "\n",
    "    df['time_stage_kill_event_1'] = df['single_kill_event'].apply(lambda x: (x[0] // time_range, x[1]))\n",
    " \n",
    "    return df"
   ]
  },
  {
   "cell_type": "code",
   "execution_count": 146,
   "metadata": {},
   "outputs": [],
   "source": [
    "data_expanded_kills = time_stages(data_expanded_kills, timeval)"
   ]
  },
  {
   "cell_type": "code",
   "execution_count": 147,
   "metadata": {},
   "outputs": [],
   "source": [
    "def time_stages_diff(df):\n",
    "\n",
    "    df['time_stage_event_diff'] = df['time_stage_kill_event_1'].apply(lambda x: (x[0], x[1][0] - x[1][1]))\n",
    " \n",
    "    return df"
   ]
  },
  {
   "cell_type": "code",
   "execution_count": 148,
   "metadata": {},
   "outputs": [],
   "source": [
    "data_expanded_kills = time_stages_diff(data_expanded_kills)"
   ]
  },
  {
   "cell_type": "code",
   "execution_count": 149,
   "metadata": {},
   "outputs": [],
   "source": [
    "def calculate_win_probability_kill(df, prev_state, curr_state, base_win_prob=0.5, kill_impact=0.5):\n",
    "    # first, make sure we are comparing two consecutive stage\n",
    "    r_prev = prev_state[1][0] # (time, (red kill, blue kill))\n",
    "    b_prev = prev_state[1][1]\n",
    "    r_curr = curr_state[1][0]\n",
    "    b_curr = curr_state[1][1]\n",
    "    \n",
    "    kill = -1\n",
    "    kill_time = curr_state[0]\n",
    "    \n",
    "    if r_prev + 1 == r_curr:\n",
    "        kill = 0 # 0 for red kill\n",
    "    elif b_prev + 1 == b_curr:\n",
    "        kill = 1 # 1 for blue kill\n",
    "    else:\n",
    "        print(\"ERROR data row\")\n",
    "        return\n",
    "    \n",
    "    matching_prev_state = df[df['time_stage_kill_event_1'] == prev_state]\n",
    "    matching_curr_state = df[df['time_stage_kill_event_1'] == curr_state]\n",
    "    wins_after_prev = matching_prev_state['bResult'].sum()\n",
    "    wins_after_curr = matching_curr_state['bResult'].sum()\n",
    "    total_prev = len(matching_prev_state)\n",
    "    total_curr = len(matching_curr_state)\n",
    "    \n",
    "    matching_indexes = matching_curr_state.index\n",
    "    prev_indexes = matching_indexes - 1\n",
    "    prev_rows = df.loc[prev_indexes]\n",
    "    count_matching_transfer = prev_rows[prev_rows['time_stage_kill_event_1'] == prev_state]\n",
    "    count_matching_transfer_wins = count_matching_transfer[prev_rows['bResult'] == 1]\n",
    "    \n",
    "    # print(count_matching_transfer.shape[0], count_matching_transfer_wins.shape[0])\n",
    "    \n",
    "    # print(total_prev,total_curr, wins_after_prev,wins_after_curr)\n",
    "    \n",
    "    if count_matching_transfer.shape[0] == 0 and total_curr != 0:\n",
    "        P_C_given_B = wins_after_curr / total_curr\n",
    "        prob_combined = P_C_given_B * kill_impact + base_win_prob * (1 - kill_impact)\n",
    "        return prob_combined, P_C_given_B, P_C_given_B\n",
    "    elif total_curr == 0 and count_matching_transfer.shape[0] != 0:\n",
    "        final_prob = count_matching_transfer_wins.shape[0] / count_matching_transfer.shape[0]\n",
    "        prob_combined = final_prob * kill_impact + base_win_prob * (1 - kill_impact)\n",
    "        return prob_combined, final_prob, final_prob\n",
    "    elif total_curr == 0 and count_matching_transfer.shape[0] == 0:\n",
    "        return base_win_prob,base_win_prob,base_win_prob\n",
    "\n",
    "    \n",
    "    # P_A_to_B = count_matching_transfer.shape[0] / total_prev\n",
    "    P_C_given_B = wins_after_curr / total_curr\n",
    "    # p_A_to_B_given_C = count_matching_transfer_wins.shape[0] / total_prev\n",
    "    \n",
    "    \n",
    "    # final_prob = p_A_to_B_given_C * P_C_given_B / P_A_to_B\n",
    "    final_prob = count_matching_transfer_wins.shape[0] / count_matching_transfer.shape[0]\n",
    "    \n",
    "    \n",
    "    # if in some data sparse case, b team kills AND b_kill > r_kill, but prob < base, we still increase prob\n",
    "    if (kill == 1) and (b_curr > r_curr) and (final_prob < base_win_prob):\n",
    "        final_prob = P_C_given_B\n",
    "    if (kill == 0) and (b_curr < r_curr) and (final_prob > base_win_prob): # if red kill but blue win probability is > base\n",
    "        final_prob = P_C_given_B\n",
    "        \n",
    "    # print(final_prob)\n",
    "    \n",
    "    prob_combined = final_prob * kill_impact + base_win_prob * (1 - kill_impact)\n",
    "    prob_final_state = P_C_given_B\n",
    "    prob_computed = final_prob\n",
    "    \n",
    "    return prob_combined, prob_final_state, prob_computed\n",
    "    \n",
    "    \n",
    "    "
   ]
  },
  {
   "cell_type": "code",
   "execution_count": 226,
   "metadata": {},
   "outputs": [],
   "source": [
    "def calculate_win_probability_stage_based(df, prev_state, curr_state, base_win_prob=0.5, kill_impact=0.5):\n",
    "    # first, make sure we are comparing two consecutive stage\n",
    "    r_prev = prev_state[1][0] # (time, (red kill, blue kill))\n",
    "    b_prev = prev_state[1][1]\n",
    "    r_curr = curr_state[1][0]\n",
    "    b_curr = curr_state[1][1]\n",
    "    \n",
    "    kill = -1\n",
    "    kill_time = curr_state[0]\n",
    "    \n",
    "    if r_prev + 1 == r_curr:\n",
    "        kill = 0 # 0 for red kill\n",
    "    elif b_prev + 1 == b_curr:\n",
    "        kill = 1 # 1 for blue kill\n",
    "    else:\n",
    "        print(\"ERROR data row\")\n",
    "        return\n",
    "    \n",
    "    matching_prev_state = df[df['time_stage_event_diff'] == (prev_state[0], r_prev - b_prev)]\n",
    "    matching_curr_state = df[df['time_stage_event_diff'] == (curr_state[0], r_curr - b_curr)]\n",
    "    wins_after_prev = matching_prev_state['bResult'].sum()\n",
    "    wins_after_curr = matching_curr_state['bResult'].sum()\n",
    "    total_prev = len(matching_prev_state)\n",
    "    total_curr = len(matching_curr_state)\n",
    "    \n",
    "    if df.iloc[0].name in matching_curr_state.index:\n",
    "        # Exclude the first row from matching_prev_state\n",
    "        matching_curr_state = matching_curr_state.iloc[1:]\n",
    "    \n",
    "    matching_indexes = matching_curr_state.index\n",
    "    prev_indexes = matching_indexes - 1\n",
    "    prev_rows = df.loc[prev_indexes]\n",
    "    count_matching_transfer = prev_rows[prev_rows['time_stage_event_diff'] == (prev_state[0], r_prev - b_prev)]\n",
    "    count_matching_transfer_wins = count_matching_transfer[prev_rows['bResult'] == 1]\n",
    "    \n",
    "    # print(count_matching_transfer.shape[0], count_matching_transfer_wins.shape[0])\n",
    "    \n",
    "    # print(total_prev,total_curr, wins_after_prev,wins_after_curr)\n",
    "\n",
    "    \n",
    "    P_A_to_B = count_matching_transfer.shape[0] / total_prev\n",
    "    P_C_given_B = wins_after_curr / total_curr\n",
    "    p_A_to_B_given_C = count_matching_transfer_wins.shape[0] / total_prev\n",
    "    final_prob = p_A_to_B_given_C * P_C_given_B / P_A_to_B\n",
    "    \n",
    "    \n",
    "    # if in some data sparse case, b team kills AND b_kill > r_kill, but prob < base, we still increase prob\n",
    "    if (kill == 1) and (b_curr > r_curr) and (final_prob < base_win_prob):\n",
    "        final_prob = P_C_given_B\n",
    "    if (kill == 0) and (b_curr < r_curr) and (final_prob > base_win_prob): # if red kill but blue win probability is > base\n",
    "        final_prob = P_C_given_B\n",
    "        \n",
    "    # print(final_prob)\n",
    "    \n",
    "    prob_combined = final_prob * kill_impact + base_win_prob * (1 - kill_impact)\n",
    "    prob_final_state = P_C_given_B\n",
    "    prob_computed = final_prob\n",
    "    \n",
    "    return prob_combined, prob_final_state, prob_computed, \n",
    "    \n",
    "    \n",
    "    "
   ]
  },
  {
   "cell_type": "code",
   "execution_count": 100,
   "metadata": {},
   "outputs": [
    {
     "name": "stderr",
     "output_type": "stream",
     "text": [
      "/Users/hezihang/opt/anaconda3/lib/python3.7/site-packages/ipykernel_launcher.py:30: UserWarning: Boolean Series key will be reindexed to match DataFrame index.\n"
     ]
    },
    {
     "data": {
      "text/plain": [
       "(0.5, 0.6153846153846154, 0.5)"
      ]
     },
     "execution_count": 100,
     "metadata": {},
     "output_type": "execute_result"
    }
   ],
   "source": [
    "calculate_win_probability_kill(data_expanded_kills, (30, (8,10)), (31, (9,10)))"
   ]
  },
  {
   "cell_type": "code",
   "execution_count": 218,
   "metadata": {},
   "outputs": [
    {
     "name": "stdout",
     "output_type": "stream",
     "text": [
      "Int64Index([42, 305, 483, 734, 936], dtype='int64')\n"
     ]
    },
    {
     "name": "stderr",
     "output_type": "stream",
     "text": [
      "/Users/hezihang/opt/anaconda3/lib/python3.7/site-packages/ipykernel_launcher.py:37: UserWarning: Boolean Series key will be reindexed to match DataFrame index.\n"
     ]
    },
    {
     "data": {
      "text/plain": [
       "(0.3896742671009772, 0.5819761129207384, 0.27934853420195443)"
      ]
     },
     "execution_count": 218,
     "metadata": {},
     "output_type": "execute_result"
    }
   ],
   "source": [
    "calculate_win_probability_stage_based(data_expanded_kills, (6, (8,10)), (7, (9,10)))"
   ]
  },
  {
   "cell_type": "code",
   "execution_count": 81,
   "metadata": {},
   "outputs": [
    {
     "data": {
      "text/plain": [
       "0    (2.0, (0, 1))\n",
       "1    (3.0, (0, 2))\n",
       "2    (3.0, (1, 2))\n",
       "3    (3.0, (2, 2))\n",
       "4    (3.0, (2, 3))\n",
       "5    (3.0, (3, 3))\n",
       "6    (3.0, (3, 4))\n",
       "7    (5.0, (3, 5))\n",
       "8    (5.0, (3, 6))\n",
       "9    (5.0, (4, 6))\n",
       "Name: time_stage_event, dtype: object"
      ]
     },
     "execution_count": 81,
     "metadata": {},
     "output_type": "execute_result"
    }
   ],
   "source": [
    "data_expanded_kills['time_stage_event'][:10]"
   ]
  },
  {
   "cell_type": "code",
   "execution_count": 150,
   "metadata": {},
   "outputs": [],
   "source": [
    "def win_probability_kill_based(test_row = 1, prob = 0.5, print_result = True, time = 1000):\n",
    "    \n",
    "    last_prob = -1\n",
    "\n",
    "    prob_lst = []\n",
    "    prob_final_lst = []\n",
    "    prob_computed_lst = []\n",
    "    for i in range( len(data['kill_events'][test_row]) - 1 ):\n",
    "        kill_event = data['kill_events'][test_row][i]\n",
    "        kill_time = kill_event[0] // timeval\n",
    "        kill = kill_event[1]\n",
    "        state = (kill_time, kill)\n",
    "        \n",
    "        if kill_time > time:\n",
    "            break\n",
    "        \n",
    "        kill_event_curr = data['kill_events'][test_row][i+1]\n",
    "        kill_time_curr = kill_event_curr[0] // timeval\n",
    "        kill_curr = kill_event_curr[1]\n",
    "        state_curr = (kill_time_curr, kill_curr)\n",
    "        \n",
    "        prob, prob_final_state, prob_computed = calculate_win_probability_kill(data_expanded_kills, state, state_curr, prob)\n",
    "        prob_lst.append(prob)\n",
    "        prob_final_lst.append(prob_final_state)\n",
    "        prob_computed_lst.append(prob_computed)\n",
    "        \n",
    "        if print_result:\n",
    "            print(kill_event, kill_event_curr, prob)\n",
    "\n",
    "    final_result = data['bResult'][test_row]\n",
    "    \n",
    "    if print_result:\n",
    "        print(final_result)\n",
    "    \n",
    "    return prob_lst, prob_final_lst, prob_computed_lst\n",
    "    \n",
    "    "
   ]
  },
  {
   "cell_type": "code",
   "execution_count": 151,
   "metadata": {},
   "outputs": [
    {
     "name": "stderr",
     "output_type": "stream",
     "text": [
      "/Users/hezihang/opt/anaconda3/lib/python3.7/site-packages/ipykernel_launcher.py:30: UserWarning: Boolean Series key will be reindexed to match DataFrame index.\n"
     ]
    },
    {
     "data": {
      "text/plain": [
       "([0.6346153846153846,\n",
       "  0.5804655870445343,\n",
       "  0.6815371413483542,\n",
       "  0.7713241262297327,\n",
       "  0.7919120631148664,\n",
       "  0.8334560315574332,\n",
       "  0.7500613491120499,\n",
       "  0.7916973412226916],\n",
       " 0)"
      ]
     },
     "execution_count": 151,
     "metadata": {},
     "output_type": "execute_result"
    }
   ],
   "source": [
    "win_probability_kill_based(print_result=False, time=15)[0], data['bResult'][1]"
   ]
  },
  {
   "cell_type": "code",
   "execution_count": 152,
   "metadata": {},
   "outputs": [],
   "source": [
    "def compare_results(df=data, k=10, time=1000):\n",
    "    combined_sum = 0\n",
    "    final_sum = 0\n",
    "    computed_sum = 0\n",
    "    \n",
    "    total_runs = 0\n",
    "\n",
    "    for i in range(k):\n",
    "        if df.iloc[i]['kill_events'][0][0] > time: # if no events happens before time_to_pred\n",
    "                continue\n",
    "        \n",
    "        idx = df.index[i]\n",
    "        prob_lst, prob_final_lst, prob_computed_lst = win_probability_kill_based(test_row=idx, print_result=False, time=time)\n",
    "        # if len(prob_lst) <= time:\n",
    "        #     continue\n",
    "        if (prob_lst[-1] < 0.5 and df.iloc[i]['bResult'] == 0) or (prob_lst[-1] >= 0.5 and df.iloc[i]['bResult'] == 1):\n",
    "            combined_sum += 1\n",
    "        if (prob_final_lst[-1] < 0.5 and df.iloc[i]['bResult'] == 0) or (prob_final_lst[-1] >= 0.5 and df.iloc[i]['bResult'] == 1):\n",
    "            final_sum += 1\n",
    "        if (prob_computed_lst[-1] < 0.5 and df.iloc[i]['bResult'] == 0) or (prob_computed_lst[-1] >= 0.5 and df.iloc[i]['bResult'] == 1):\n",
    "            computed_sum += 1\n",
    "        \n",
    "        # print(prob_lst)\n",
    "        total_runs += 1\n",
    "            \n",
    "    return combined_sum, final_sum, computed_sum, total_runs\n",
    "    \n",
    "    "
   ]
  },
  {
   "cell_type": "markdown",
   "metadata": {},
   "source": [
    "#### Compare Results"
   ]
  },
  {
   "cell_type": "code",
   "execution_count": 42,
   "metadata": {},
   "outputs": [
    {
     "name": "stderr",
     "output_type": "stream",
     "text": [
      "/Users/hezihang/opt/anaconda3/lib/python3.7/site-packages/ipykernel_launcher.py:30: UserWarning: Boolean Series key will be reindexed to match DataFrame index.\n"
     ]
    },
    {
     "data": {
      "text/plain": [
       "(72, 70, 73, 98)"
      ]
     },
     "execution_count": 42,
     "metadata": {},
     "output_type": "execute_result"
    }
   ],
   "source": [
    "compare_results(k=100,time=15)\n"
   ]
  },
  {
   "cell_type": "code",
   "execution_count": 234,
   "metadata": {},
   "outputs": [
    {
     "name": "stderr",
     "output_type": "stream",
     "text": [
      "/Users/hezihang/opt/anaconda3/lib/python3.7/site-packages/ipykernel_launcher.py:34: UserWarning: Boolean Series key will be reindexed to match DataFrame index.\n"
     ]
    },
    {
     "data": {
      "text/plain": [
       "((72, 79, 72, 100),\n",
       " (78, 77, 83, 97),\n",
       " (72, 72, 72, 87),\n",
       " (55, 57, 56, 67),\n",
       " (38, 39, 38, 44),\n",
       " (22, 22, 21, 25))"
      ]
     },
     "execution_count": 234,
     "metadata": {},
     "output_type": "execute_result"
    }
   ],
   "source": [
    "# stage diff compare\n",
    "diff5 = compare_results(time=5)\n",
    "diff10 = compare_results(time=10)\n",
    "diff15 = compare_results(time=15)\n",
    "diff20 = compare_results(time=20)\n",
    "diff25 = compare_results(time=25)\n",
    "diff30 = compare_results(time=30)\n",
    "diffl = compare_results(time=-1)\n",
    "diff5,diff10,diff15,diff20,diff25,diff30, diffl\n",
    "# (72, 79, 72, 100),\n",
    "#  (78, 77, 83, 97),\n",
    "#  (72, 72, 72, 87),\n",
    "#  (55, 57, 56, 67),\n",
    "#  (38, 39, 38, 44),\n",
    "#  (22, 22, 21, 25),\n",
    "# (94, 98, 97, 100)"
   ]
  },
  {
   "cell_type": "code",
   "execution_count": 246,
   "metadata": {},
   "outputs": [
    {
     "name": "stderr",
     "output_type": "stream",
     "text": [
      "/Users/hezihang/opt/anaconda3/lib/python3.7/site-packages/ipykernel_launcher.py:30: UserWarning: Boolean Series key will be reindexed to match DataFrame index.\n"
     ]
    },
    {
     "data": {
      "text/plain": [
       "((74, 78, 72, 100),\n",
       " (79, 76, 82, 97),\n",
       " (71, 73, 71, 87),\n",
       " (56, 60, 56, 67),\n",
       " (38, 38, 38, 44),\n",
       " (22, 19, 20, 25),\n",
       " (98, 99, 97, 100))"
      ]
     },
     "execution_count": 246,
     "metadata": {},
     "output_type": "execute_result"
    }
   ],
   "source": [
    "# prob compare, timeval 5\n",
    "time5 = compare_results(time=5)\n",
    "time10 = compare_results(time=10)\n",
    "time15 = compare_results(time=15)\n",
    "time20 = compare_results(time=20)\n",
    "time25 = compare_results(time=25)\n",
    "time30 = compare_results(time=30)\n",
    "time_ = compare_results(time=-1)\n",
    "\n",
    "\n",
    "# ((74, 78, 72, 100),\n",
    "#  (79, 76, 82, 97),\n",
    "#  (71, 73, 71, 87),\n",
    "#  (56, 60, 56, 67),\n",
    "#  (38, 38, 38, 44),\n",
    "#  (22, 19, 20, 25),\n",
    "#  (98, 99, 97, 100))\n",
    "\n",
    "time5,time10,time15,time20,time25,time30,time_"
   ]
  },
  {
   "cell_type": "code",
   "execution_count": 266,
   "metadata": {},
   "outputs": [
    {
     "name": "stderr",
     "output_type": "stream",
     "text": [
      "/Users/hezihang/opt/anaconda3/lib/python3.7/site-packages/ipykernel_launcher.py:30: UserWarning: Boolean Series key will be reindexed to match DataFrame index.\n"
     ]
    },
    {
     "data": {
      "text/plain": [
       "((71, 79, 71, 100),\n",
       " (78, 76, 84, 97),\n",
       " (72, 72, 71, 87),\n",
       " (56, 58, 56, 67),\n",
       " (38, 39, 38, 44),\n",
       " (22, 22, 22, 25),\n",
       " (96, 99, 95, 100))"
      ]
     },
     "execution_count": 266,
     "metadata": {},
     "output_type": "execute_result"
    }
   ],
   "source": [
    "# prob compare, timeval 100\n",
    "time5 = compare_results(time=5)\n",
    "time10 = compare_results(time=10)\n",
    "time15 = compare_results(time=15)\n",
    "time20 = compare_results(time=20)\n",
    "time25 = compare_results(time=25)\n",
    "time30 = compare_results(time=30)\n",
    "time_ = compare_results(time=-1)\n",
    "\n",
    "# ((71, 79, 71, 100),\n",
    "#  (78, 76, 84, 97),\n",
    "#  (72, 72, 71, 87),\n",
    "#  (56, 58, 56, 67),\n",
    "#  (38, 39, 38, 44),\n",
    "#  (22, 22, 22, 25),\n",
    "#  (96, 99, 95, 100))\n",
    "\n",
    "time5,time10,time15,time20,time25,time30,time_"
   ]
  },
  {
   "cell_type": "code",
   "execution_count": 273,
   "metadata": {},
   "outputs": [
    {
     "name": "stderr",
     "output_type": "stream",
     "text": [
      "/Users/hezihang/opt/anaconda3/lib/python3.7/site-packages/ipykernel_launcher.py:30: UserWarning: Boolean Series key will be reindexed to match DataFrame index.\n"
     ]
    },
    {
     "data": {
      "text/plain": [
       "((76, 78, 79, 100),\n",
       " (82, 78, 83, 97),\n",
       " (72, 72, 73, 87),\n",
       " (61, 61, 59, 67),\n",
       " (38, 36, 38, 44),\n",
       " (23, 20, 22, 25),\n",
       " (97, 97, 97, 100))"
      ]
     },
     "execution_count": 273,
     "metadata": {},
     "output_type": "execute_result"
    }
   ],
   "source": [
    "# prob compare, timeval 2\n",
    "time5 = compare_results(time=5)\n",
    "time10 = compare_results(time=10)\n",
    "time15 = compare_results(time=15)\n",
    "time20 = compare_results(time=20)\n",
    "time25 = compare_results(time=25)\n",
    "time30 = compare_results(time=30)\n",
    "time_ = compare_results(time=-1)\n",
    "\n",
    "\n",
    "# ((76, 78, 79, 100),\n",
    "#  (82, 78, 83, 97),\n",
    "#  (72, 72, 73, 87),\n",
    "#  (61, 61, 59, 67),\n",
    "#  (38, 36, 38, 44),\n",
    "#  (23, 20, 22, 25),\n",
    "#  (97, 97, 97, 100))\n",
    "\n",
    "time5,time10,time15,time20,time25,time30,time_"
   ]
  },
  {
   "cell_type": "code",
   "execution_count": 82,
   "metadata": {},
   "outputs": [
    {
     "name": "stderr",
     "output_type": "stream",
     "text": [
      "/Users/hezihang/opt/anaconda3/lib/python3.7/site-packages/ipykernel_launcher.py:30: UserWarning: Boolean Series key will be reindexed to match DataFrame index.\n"
     ]
    },
    {
     "data": {
      "text/plain": [
       "((79, 70, 78, 98),\n",
       " (83, 72, 81, 98),\n",
       " (84, 73, 82, 98),\n",
       " (92, 83, 90, 100),\n",
       " (91, 86, 89, 100),\n",
       " (100, 98, 99, 100))"
      ]
     },
     "execution_count": 82,
     "metadata": {},
     "output_type": "execute_result"
    }
   ],
   "source": [
    "# prob compare, timeval 1\n",
    "time15 = compare_results(k=100,time=15)\n",
    "time18 = compare_results(k=100,time=18)\n",
    "time20 = compare_results(k=100,time=20)\n",
    "time25 = compare_results(k=100,time=25)\n",
    "time30 = compare_results(k=100,time=30)\n",
    "time_ = compare_results(k=100,time=1000)\n",
    "\n",
    "# ((72, 70, 73, 98),\n",
    "#  (79, 72, 79, 98),\n",
    "#  (83, 73, 82, 98),\n",
    "#  (87, 83, 87, 100),\n",
    "#  (92, 86, 90, 100),\n",
    "#  (99, 98, 99, 100))\n",
    "\n",
    "# ((79, 70, 78, 98),\n",
    "#  (83, 72, 81, 98),\n",
    "#  (84, 73, 82, 98),\n",
    "#  (92, 83, 90, 100),\n",
    "#  (91, 86, 89, 100),\n",
    "#  (100, 98, 99, 100))\n",
    "\n",
    "time15, time18, time20,time25,time30,time_"
   ]
  },
  {
   "cell_type": "code",
   "execution_count": 155,
   "metadata": {},
   "outputs": [
    {
     "name": "stderr",
     "output_type": "stream",
     "text": [
      "/Users/hezihang/opt/anaconda3/lib/python3.7/site-packages/ipykernel_launcher.py:30: UserWarning: Boolean Series key will be reindexed to match DataFrame index.\n"
     ]
    },
    {
     "data": {
      "text/plain": [
       "((65, 65, 63, 97),\n",
       " (66, 65, 67, 100),\n",
       " (70, 76, 72, 100),\n",
       " (81, 80, 80, 100),\n",
       " (82, 84, 82, 100),\n",
       " (88, 88, 90, 100))"
      ]
     },
     "execution_count": 155,
     "metadata": {},
     "output_type": "execute_result"
    }
   ],
   "source": [
    "# prob compare, timeval 1\n",
    "time15 = compare_results(df=test_data,k=100,time=15)\n",
    "time18 = compare_results(df=test_data,k=100,time=18)\n",
    "time20 = compare_results(df=test_data,k=100,time=20)\n",
    "time25 = compare_results(df=test_data,k=100,time=25)\n",
    "time30 = compare_results(df=test_data,k=100,time=30)\n",
    "time_ = compare_results(df=test_data,k=100,time=1000)\n",
    "\n",
    "# ((72, 70, 73, 98),\n",
    "#  (79, 72, 79, 98),\n",
    "#  (83, 73, 82, 98),\n",
    "#  (87, 83, 87, 100),\n",
    "#  (92, 86, 90, 100),\n",
    "#  (99, 98, 99, 100))\n",
    "\n",
    "time15, time18, time20,time25,time30,time_"
   ]
  },
  {
   "cell_type": "code",
   "execution_count": 154,
   "metadata": {},
   "outputs": [
    {
     "data": {
      "text/plain": [
       "0.6701030927835051"
      ]
     },
     "execution_count": 154,
     "metadata": {},
     "output_type": "execute_result"
    }
   ],
   "source": [
    "65/97"
   ]
  },
  {
   "cell_type": "code",
   "execution_count": 126,
   "metadata": {},
   "outputs": [
    {
     "data": {
      "text/plain": [
       "1321    1\n",
       "3520    1\n",
       "3176    1\n",
       "132     0\n",
       "1430    0\n",
       "       ..\n",
       "7240    0\n",
       "4254    0\n",
       "1041    1\n",
       "3871    1\n",
       "1142    0\n",
       "Name: bResult, Length: 77, dtype: int64"
      ]
     },
     "execution_count": 126,
     "metadata": {},
     "output_type": "execute_result"
    }
   ],
   "source": [
    "test_data['bResult'][1321]"
   ]
  },
  {
   "cell_type": "code",
   "execution_count": 171,
   "metadata": {},
   "outputs": [
    {
     "name": "stderr",
     "output_type": "stream",
     "text": [
      "/Users/hezihang/opt/anaconda3/lib/python3.7/site-packages/ipykernel_launcher.py:30: UserWarning: Boolean Series key will be reindexed to match DataFrame index.\n"
     ]
    },
    {
     "data": {
      "text/plain": [
       "(71, 73, 71, 87)"
      ]
     },
     "execution_count": 171,
     "metadata": {},
     "output_type": "execute_result"
    }
   ],
   "source": [
    "compare_results(time=15)"
   ]
  },
  {
   "cell_type": "code",
   "execution_count": 172,
   "metadata": {},
   "outputs": [
    {
     "name": "stderr",
     "output_type": "stream",
     "text": [
      "/Users/hezihang/opt/anaconda3/lib/python3.7/site-packages/ipykernel_launcher.py:30: UserWarning: Boolean Series key will be reindexed to match DataFrame index.\n"
     ]
    },
    {
     "data": {
      "text/plain": [
       "(56, 60, 56, 67)"
      ]
     },
     "execution_count": 172,
     "metadata": {},
     "output_type": "execute_result"
    }
   ],
   "source": [
    "compare_results(time=20)"
   ]
  },
  {
   "cell_type": "code",
   "execution_count": 179,
   "metadata": {},
   "outputs": [
    {
     "data": {
      "text/plain": [
       "(0.835820895522388, 0.8160919540229885, 0.8144329896907216, 0.88)"
      ]
     },
     "execution_count": 179,
     "metadata": {},
     "output_type": "execute_result"
    }
   ],
   "source": [
    "56/67, 71/87, 79/97, 22/25"
   ]
  },
  {
   "cell_type": "code",
   "execution_count": 173,
   "metadata": {},
   "outputs": [
    {
     "name": "stderr",
     "output_type": "stream",
     "text": [
      "/Users/hezihang/opt/anaconda3/lib/python3.7/site-packages/ipykernel_launcher.py:30: UserWarning: Boolean Series key will be reindexed to match DataFrame index.\n"
     ]
    },
    {
     "data": {
      "text/plain": [
       "(38, 38, 38, 44)"
      ]
     },
     "execution_count": 173,
     "metadata": {},
     "output_type": "execute_result"
    }
   ],
   "source": [
    "compare_results(time=25)"
   ]
  },
  {
   "cell_type": "code",
   "execution_count": 174,
   "metadata": {},
   "outputs": [
    {
     "name": "stderr",
     "output_type": "stream",
     "text": [
      "/Users/hezihang/opt/anaconda3/lib/python3.7/site-packages/ipykernel_launcher.py:30: UserWarning: Boolean Series key will be reindexed to match DataFrame index.\n"
     ]
    },
    {
     "data": {
      "text/plain": [
       "(22, 19, 20, 25)"
      ]
     },
     "execution_count": 174,
     "metadata": {},
     "output_type": "execute_result"
    }
   ],
   "source": [
    "compare_results(time=30)"
   ]
  },
  {
   "cell_type": "markdown",
   "metadata": {},
   "source": [
    "##### Observe that for row idx 1, the last kill is \n",
    "(32.367, (8, 10)) (36.418, (9, 10)) 0.33765935662002844\n",
    "Even if the state is (9,10), the win result of blue is still 0.34 < 0.5, this is because we take into account of previous probability and previous state. \n",
    "\n",
    "The probability of blue win if we ONLY consider the final state (7, (9,10)) is 0.55, the probability of blue win if we only consider the transition between state (6, (8,10)) and (7, (9,10)) is 0.40."
   ]
  },
  {
   "cell_type": "code",
   "execution_count": null,
   "metadata": {},
   "outputs": [],
   "source": []
  },
  {
   "cell_type": "markdown",
   "metadata": {},
   "source": [
    "### For Dragon Kills"
   ]
  },
  {
   "cell_type": "code",
   "execution_count": 180,
   "metadata": {},
   "outputs": [
    {
     "data": {
      "text/plain": [
       "Index(['bResult', 'golddiff', 'bKills', 'bTowers', 'bDragons', 'rKills',\n",
       "       'rTowers', 'rDragons', 'kill_events'],\n",
       "      dtype='object')"
      ]
     },
     "execution_count": 180,
     "metadata": {},
     "output_type": "execute_result"
    }
   ],
   "source": [
    "data.columns"
   ]
  },
  {
   "cell_type": "code",
   "execution_count": 45,
   "metadata": {},
   "outputs": [],
   "source": [
    "def process_dragons(row):\n",
    "    # Initialize counters\n",
    "    rDragon_count = 0\n",
    "    bDragon_count = 0\n",
    "    dragon_events = []\n",
    "    \n",
    "    # Combine and sort dragons by timestamp\n",
    "    all_dragons = [{'time': dragon[0], 'team': 'r', 'details': dragon} for dragon in ast.literal_eval(row['rDragons'])]\n",
    "    all_dragons += [{'time': dragon[0], 'team': 'b', 'details': dragon} for dragon in ast.literal_eval(row['bDragons'])]\n",
    "    all_dragons = sorted(all_dragons, key=lambda x: x['time'])\n",
    "    \n",
    "    # Iterate through combined kills\n",
    "    for kill in all_dragons:\n",
    "        if kill['team'] == 'r':\n",
    "            rDragon_count += 1\n",
    "        else:\n",
    "            bDragon_count += 1\n",
    "        dragon_events.append((kill['time'], (rDragon_count, bDragon_count)))\n",
    "    \n",
    "    return dragon_events"
   ]
  },
  {
   "cell_type": "code",
   "execution_count": 46,
   "metadata": {},
   "outputs": [
    {
     "name": "stderr",
     "output_type": "stream",
     "text": [
      "/Users/hezihang/opt/anaconda3/lib/python3.7/site-packages/ipykernel_launcher.py:1: SettingWithCopyWarning: \n",
      "A value is trying to be set on a copy of a slice from a DataFrame.\n",
      "Try using .loc[row_indexer,col_indexer] = value instead\n",
      "\n",
      "See the caveats in the documentation: https://pandas.pydata.org/pandas-docs/stable/user_guide/indexing.html#returning-a-view-versus-a-copy\n",
      "  \"\"\"Entry point for launching an IPython kernel.\n"
     ]
    }
   ],
   "source": [
    "data['dragon_events'] = data.apply(process_dragons, axis=1)"
   ]
  },
  {
   "cell_type": "code",
   "execution_count": 47,
   "metadata": {},
   "outputs": [],
   "source": [
    "def expand_rows_based_on_dragons(original_df):\n",
    "    # List to hold the expanded rows\n",
    "    expanded_rows = []\n",
    "\n",
    "    # Iterate through each row in the original DataFrame\n",
    "    for _, row in original_df.iterrows():\n",
    "        # Access the dragon_events for the current row\n",
    "        dragon_events = row['dragon_events']\n",
    "        \n",
    "        # Iterate through each kill event\n",
    "        for event in dragon_events:\n",
    "            # Create a new row from the current row, but as a dict to modify it\n",
    "            new_row = row.to_dict()\n",
    "            \n",
    "            # Add the single_kill_event details for this kill\n",
    "            new_row['single_dragon_event'] = event\n",
    "            \n",
    "            # Append the modified row to the list of expanded rows\n",
    "            expanded_rows.append(new_row)\n",
    "    \n",
    "    # Create a new DataFrame from the expanded rows\n",
    "    expanded_df = pd.DataFrame(expanded_rows)\n",
    "    \n",
    "    return expanded_df"
   ]
  },
  {
   "cell_type": "code",
   "execution_count": 156,
   "metadata": {},
   "outputs": [],
   "source": [
    "data_expanded_dragons = expand_rows_based_on_dragons(train_data)"
   ]
  },
  {
   "cell_type": "code",
   "execution_count": 157,
   "metadata": {},
   "outputs": [],
   "source": [
    "def time_stages_dragon(df, time_range=timeval):\n",
    "\n",
    "    df['time_stage_dragon_event'] = df['single_dragon_event'].apply(lambda x: (x[0] // time_range, x[1]))\n",
    " \n",
    "    return df"
   ]
  },
  {
   "cell_type": "code",
   "execution_count": 158,
   "metadata": {},
   "outputs": [],
   "source": [
    "data_expanded_dragons = time_stages_dragon(data_expanded_dragons)"
   ]
  },
  {
   "cell_type": "code",
   "execution_count": 159,
   "metadata": {},
   "outputs": [],
   "source": [
    "def calculate_win_probability_dragon(df, prev_state, curr_state, base_win_prob=0.5, dragon_impact=0.5):\n",
    "    # first, make sure we are comparing two consecutive stage\n",
    "    r_prev = prev_state[1][0] # (time, (red dragon, blue dragon))\n",
    "    b_prev = prev_state[1][1]\n",
    "    r_curr = curr_state[1][0]\n",
    "    b_curr = curr_state[1][1]\n",
    "    \n",
    "    dragon = -1\n",
    "    \n",
    "    if r_prev + 1 == r_curr:\n",
    "        dragon = 0 # 0 for red kill\n",
    "    elif b_prev + 1 == b_curr:\n",
    "        dragon = 1 # 1 for blue kill\n",
    "    else:\n",
    "        print(\"ERROR data row\")\n",
    "        return\n",
    "    \n",
    "    matching_prev_state = df[df['time_stage_dragon_event'] == prev_state]\n",
    "    matching_curr_state = df[df['time_stage_dragon_event'] == curr_state]\n",
    "    wins_after_prev = matching_prev_state['bResult'].sum()\n",
    "    wins_after_curr = matching_curr_state['bResult'].sum()\n",
    "    total_prev = len(matching_prev_state)\n",
    "    total_curr = len(matching_curr_state)\n",
    "    \n",
    "    matching_indexes = matching_curr_state.index\n",
    "    prev_indexes = matching_indexes - 1\n",
    "    prev_rows = df.loc[prev_indexes]\n",
    "    count_matching_transfer = prev_rows[prev_rows['time_stage_dragon_event'] == prev_state]\n",
    "    count_matching_transfer_wins = count_matching_transfer[prev_rows['bResult'] == 1]\n",
    "    \n",
    "    if count_matching_transfer.shape[0] == 0 and total_curr != 0:\n",
    "        P_C_given_B = wins_after_curr / total_curr\n",
    "        prob_combined = P_C_given_B * dragon_impact + base_win_prob * (1 - dragon_impact)\n",
    "        return prob_combined, P_C_given_B, P_C_given_B\n",
    "    elif total_curr == 0 and count_matching_transfer.shape[0] != 0:\n",
    "        final_prob = count_matching_transfer_wins.shape[0] / count_matching_transfer.shape[0]\n",
    "        prob_combined = final_prob * dragon_impact + base_win_prob * (1 - dragon_impact)\n",
    "        return prob_combined, final_prob, final_prob\n",
    "    elif total_curr == 0 and count_matching_transfer.shape[0] == 0:\n",
    "        return base_win_prob,base_win_prob,base_win_prob\n",
    "    \n",
    "    P_C_given_B = wins_after_curr / total_curr\n",
    "    final_prob = count_matching_transfer_wins.shape[0] / count_matching_transfer.shape[0]\n",
    "    \n",
    "    \n",
    "    # if in some data sparse case, b team dragons AND b_dragon > r_dragon, but prob < base, we still increase prob\n",
    "    if (dragon == 1) and (b_curr > r_curr) and (final_prob < base_win_prob):\n",
    "        final_prob = P_C_given_B\n",
    "    if (dragon == 0) and (b_curr < r_curr) and (final_prob > base_win_prob): # if red dragon but blue win probability is > base\n",
    "        final_prob = P_C_given_B\n",
    "        \n",
    "    # print(final_prob)\n",
    "    \n",
    "    prob_combined = final_prob * dragon_impact + base_win_prob * (1 - dragon_impact)\n",
    "    prob_final_state = P_C_given_B\n",
    "    prob_computed = final_prob\n",
    "    \n",
    "    return prob_combined, prob_final_state, prob_computed\n",
    "    \n",
    "    \n",
    "    "
   ]
  },
  {
   "cell_type": "code",
   "execution_count": 161,
   "metadata": {},
   "outputs": [],
   "source": [
    "def win_probability_dragon_based(test_row = 1, prob = 0.5, print_result = True):\n",
    "    \n",
    "    last_prob = -1\n",
    "\n",
    "    prob_lst = []\n",
    "    prob_final_lst = []\n",
    "    prob_computed_lst = []\n",
    "    for i in range( len(data['dragon_events'][test_row]) - 1 ):\n",
    "        dragon_event = data['dragon_events'][test_row][i]\n",
    "        dragon_time = dragon_event[0] // timeval\n",
    "        dragon = dragon_event[1]\n",
    "        state = (dragon_time, dragon)\n",
    "        \n",
    "        dragon_event_curr = data['dragon_events'][test_row][i+1]\n",
    "        dragon_time_curr = dragon_event_curr[0] // timeval\n",
    "        dragon_curr = dragon_event_curr[1]\n",
    "        state_curr = (dragon_time_curr, dragon_curr)\n",
    "        \n",
    "        prob, prob_final_state, prob_computed = calculate_win_probability_dragon(data_expanded_dragons, state, state_curr, prob)\n",
    "        prob_lst.append(prob)\n",
    "        prob_final_lst.append(prob_final_state)\n",
    "        prob_computed_lst.append(prob_computed)\n",
    "        \n",
    "        if print_result:\n",
    "            print(dragon_event, dragon_event_curr, prob)\n",
    "\n",
    "    final_result = data['bResult'][test_row]\n",
    "    \n",
    "    if print_result:\n",
    "        print(final_result)\n",
    "    \n",
    "    return prob_lst, prob_final_lst, prob_computed_lst\n",
    "    \n",
    "    "
   ]
  },
  {
   "cell_type": "code",
   "execution_count": 162,
   "metadata": {},
   "outputs": [
    {
     "name": "stdout",
     "output_type": "stream",
     "text": [
      "(12.264, (1, 0)) (19.119, (1, 1)) 0.5990566037735849\n",
      "(19.119, (1, 1)) (26.177, (1, 2)) 0.7125717801476621\n",
      "(26.177, (1, 2)) (32.545, (1, 3)) 0.8108313446192856\n",
      "0\n"
     ]
    },
    {
     "name": "stderr",
     "output_type": "stream",
     "text": [
      "/Users/hezihang/opt/anaconda3/lib/python3.7/site-packages/ipykernel_launcher.py:29: UserWarning: Boolean Series key will be reindexed to match DataFrame index.\n"
     ]
    },
    {
     "data": {
      "text/plain": [
       "([0.5990566037735849, 0.7125717801476621, 0.8108313446192856],\n",
       " [0.5860655737704918, 0.7619047619047619, 0.7252747252747253],\n",
       " [0.6981132075471698, 0.8260869565217391, 0.9090909090909091])"
      ]
     },
     "execution_count": 162,
     "metadata": {},
     "output_type": "execute_result"
    }
   ],
   "source": [
    "win_probability_dragon_based()"
   ]
  },
  {
   "cell_type": "markdown",
   "metadata": {},
   "source": [
    "### For Tower Taken"
   ]
  },
  {
   "cell_type": "code",
   "execution_count": 54,
   "metadata": {},
   "outputs": [],
   "source": [
    "def process_towers(row):\n",
    "    # Initialize counters\n",
    "    rTower_count = 0\n",
    "    bTower_count = 0\n",
    "    tower_events = []\n",
    "    \n",
    "    # Combine and sort towers by timestamp\n",
    "    all_towers = [{'time': tower[0], 'team': 'r', 'details': tower} for tower in ast.literal_eval(row['rTowers'])]\n",
    "    all_towers += [{'time': tower[0], 'team': 'b', 'details': tower} for tower in ast.literal_eval(row['bTowers'])]\n",
    "    all_towers = sorted(all_towers, key=lambda x: x['time'])\n",
    "    \n",
    "    # Iterate through combined kills\n",
    "    for kill in all_towers:\n",
    "        if kill['team'] == 'r':\n",
    "            rTower_count += 1\n",
    "        else:\n",
    "            bTower_count += 1\n",
    "        tower_events.append((kill['time'], (rTower_count, bTower_count)))\n",
    "    \n",
    "    return tower_events"
   ]
  },
  {
   "cell_type": "code",
   "execution_count": 55,
   "metadata": {},
   "outputs": [
    {
     "name": "stderr",
     "output_type": "stream",
     "text": [
      "/Users/hezihang/opt/anaconda3/lib/python3.7/site-packages/ipykernel_launcher.py:1: SettingWithCopyWarning: \n",
      "A value is trying to be set on a copy of a slice from a DataFrame.\n",
      "Try using .loc[row_indexer,col_indexer] = value instead\n",
      "\n",
      "See the caveats in the documentation: https://pandas.pydata.org/pandas-docs/stable/user_guide/indexing.html#returning-a-view-versus-a-copy\n",
      "  \"\"\"Entry point for launching an IPython kernel.\n"
     ]
    }
   ],
   "source": [
    "data['tower_events'] = data.apply(process_towers, axis=1)"
   ]
  },
  {
   "cell_type": "code",
   "execution_count": 56,
   "metadata": {},
   "outputs": [],
   "source": [
    "def expand_rows_based_on_towers(original_df):\n",
    "    # List to hold the expanded rows\n",
    "    expanded_rows = []\n",
    "\n",
    "    # Iterate through each row in the original DataFrame\n",
    "    for _, row in original_df.iterrows():\n",
    "        # Access the tower_events for the current row\n",
    "        tower_events = row['tower_events']\n",
    "        \n",
    "        # Iterate through each kill event\n",
    "        for event in tower_events:\n",
    "            # Create a new row from the current row, but as a dict to modify it\n",
    "            new_row = row.to_dict()\n",
    "            \n",
    "            # Add the single_kill_event details for this kill\n",
    "            new_row['single_tower_event'] = event\n",
    "            \n",
    "            # Append the modified row to the list of expanded rows\n",
    "            expanded_rows.append(new_row)\n",
    "    \n",
    "    # Create a new DataFrame from the expanded rows\n",
    "    expanded_df = pd.DataFrame(expanded_rows)\n",
    "    \n",
    "    return expanded_df"
   ]
  },
  {
   "cell_type": "code",
   "execution_count": 163,
   "metadata": {},
   "outputs": [],
   "source": [
    "data_expanded_towers = expand_rows_based_on_towers(train_data)"
   ]
  },
  {
   "cell_type": "code",
   "execution_count": 164,
   "metadata": {},
   "outputs": [],
   "source": [
    "def time_stages_tower(df, time_range=timeval):\n",
    "\n",
    "    df['time_stage_tower_event'] = df['single_tower_event'].apply(lambda x: (x[0] // time_range, x[1]))\n",
    " \n",
    "    return df"
   ]
  },
  {
   "cell_type": "code",
   "execution_count": 165,
   "metadata": {},
   "outputs": [],
   "source": [
    "data_expanded_towers = time_stages_tower(data_expanded_towers)"
   ]
  },
  {
   "cell_type": "code",
   "execution_count": 167,
   "metadata": {},
   "outputs": [],
   "source": [
    "def calculate_win_probability_tower(df, prev_state, curr_state, base_win_prob=0.5, tower_impact=0.5):\n",
    "    # first, make sure we are comparing two consecutive stage\n",
    "    r_prev = prev_state[1][0] # (time, (red tower, blue tower))\n",
    "    b_prev = prev_state[1][1]\n",
    "    r_curr = curr_state[1][0]\n",
    "    b_curr = curr_state[1][1]\n",
    "    \n",
    "    tower = -1\n",
    "    \n",
    "    if r_prev + 1 == r_curr:\n",
    "        tower = 0 # 0 for red kill\n",
    "    elif b_prev + 1 == b_curr:\n",
    "        tower = 1 # 1 for blue kill\n",
    "    else:\n",
    "        print(\"ERROR data row\")\n",
    "        return\n",
    "    \n",
    "    matching_prev_state = df[df['time_stage_tower_event'] == prev_state]\n",
    "    matching_curr_state = df[df['time_stage_tower_event'] == curr_state]\n",
    "    wins_after_prev = matching_prev_state['bResult'].sum()\n",
    "    wins_after_curr = matching_curr_state['bResult'].sum()\n",
    "    total_prev = len(matching_prev_state)\n",
    "    total_curr = len(matching_curr_state)\n",
    "    \n",
    "    matching_indexes = matching_curr_state.index\n",
    "    prev_indexes = matching_indexes - 1\n",
    "    prev_rows = df.loc[prev_indexes]\n",
    "    count_matching_transfer = prev_rows[prev_rows['time_stage_tower_event'] == prev_state]\n",
    "    count_matching_transfer_wins = count_matching_transfer[prev_rows['bResult'] == 1]\n",
    "    \n",
    "    \n",
    "    if count_matching_transfer.shape[0] == 0 and total_curr != 0:\n",
    "        P_C_given_B = wins_after_curr / total_curr\n",
    "        prob_combined = P_C_given_B * tower_impact + base_win_prob * (1 - tower_impact)\n",
    "        return prob_combined, P_C_given_B, P_C_given_B\n",
    "    elif total_curr == 0 and count_matching_transfer.shape[0] != 0:\n",
    "        final_prob = count_matching_transfer_wins.shape[0] / count_matching_transfer.shape[0]\n",
    "        prob_combined = final_prob * tower_impact + base_win_prob * (1 - tower_impact)\n",
    "        return prob_combined, final_prob, final_prob\n",
    "    elif total_curr == 0 and count_matching_transfer.shape[0] == 0:\n",
    "        return base_win_prob,base_win_prob,base_win_prob\n",
    "    \n",
    "    P_C_given_B = wins_after_curr / total_curr\n",
    "\n",
    "    final_prob = count_matching_transfer_wins.shape[0] / count_matching_transfer.shape[0]\n",
    "    \n",
    "    \n",
    "    # if in some data sparse case, b team towers AND b_tower > r_tower, but prob < base, we still increase prob\n",
    "    if (tower == 1) and (b_curr > r_curr) and (final_prob < base_win_prob):\n",
    "        final_prob = P_C_given_B\n",
    "    if (tower == 0) and (b_curr < r_curr) and (final_prob > base_win_prob): # if red tower but blue win probability is > base\n",
    "        final_prob = P_C_given_B\n",
    "        \n",
    "    # print(final_prob)\n",
    "    \n",
    "    prob_combined = final_prob * tower_impact + base_win_prob * (1 - tower_impact)\n",
    "    prob_final_state = P_C_given_B\n",
    "    prob_computed = final_prob\n",
    "    \n",
    "    return prob_combined, prob_final_state, prob_computed\n",
    "    \n",
    "    "
   ]
  },
  {
   "cell_type": "code",
   "execution_count": 168,
   "metadata": {},
   "outputs": [],
   "source": [
    "def win_probability_tower_based(test_row = 1, prob = 0.5, print_result = True):\n",
    "\n",
    "    prob_lst = []\n",
    "    prob_final_lst = []\n",
    "    prob_computed_lst = []\n",
    "    for i in range( len(data['tower_events'][test_row]) - 1 ):\n",
    "        tower_event = data['tower_events'][test_row][i]\n",
    "        tower_time = tower_event[0] // timeval\n",
    "        tower = tower_event[1]\n",
    "        state = (tower_time, tower)\n",
    "        tower_event_curr = data['tower_events'][test_row][i+1]\n",
    "        tower_time_curr = tower_event_curr[0] // timeval\n",
    "        tower_curr = tower_event_curr[1]\n",
    "        state_curr = (tower_time_curr, tower_curr)\n",
    "        \n",
    "        prob, prob_final_state, prob_computed = calculate_win_probability_tower(data_expanded_towers, state, state_curr, prob)\n",
    "        prob_lst.append(prob)\n",
    "        prob_final_lst.append(prob_final_state)\n",
    "        prob_computed_lst.append(prob_computed)\n",
    "        \n",
    "        if print_result:\n",
    "            print(tower_event, tower_event_curr, prob)\n",
    "\n",
    "    final_result = data['bResult'][test_row]\n",
    "    \n",
    "    # if print_result:\n",
    "    #     print(final_result)\n",
    "    \n",
    "    return prob_lst, prob_final_lst, prob_computed_lst\n",
    "    \n",
    "    "
   ]
  },
  {
   "cell_type": "code",
   "execution_count": 86,
   "metadata": {},
   "outputs": [
    {
     "name": "stderr",
     "output_type": "stream",
     "text": [
      "/Users/hezihang/opt/anaconda3/lib/python3.7/site-packages/ipykernel_launcher.py:29: UserWarning: Boolean Series key will be reindexed to match DataFrame index.\n"
     ]
    },
    {
     "data": {
      "text/plain": [
       "[0.6805555555555556,\n",
       " 0.7248931623931625,\n",
       " 0.7910180097680097,\n",
       " 0.6849826890945312,\n",
       " 0.7111782132341342,\n",
       " 0.7786660296939902,\n",
       " 0.6893330148469952,\n",
       " 0.8446665074234976,\n",
       " 0.755666587045082,\n",
       " 0.877833293522541,\n",
       " 0.9389166467612705,\n",
       " 0.9694583233806353,\n",
       " 0.9847291616903177,\n",
       " 0.9923645808451589,\n",
       " 0.8038745981148872,\n",
       " 0.9019372990574436,\n",
       " 0.9509686495287217]"
      ]
     },
     "execution_count": 86,
     "metadata": {},
     "output_type": "execute_result"
    }
   ],
   "source": [
    "win_probability_tower_based(10, print_result=False)[0]"
   ]
  },
  {
   "cell_type": "code",
   "execution_count": 63,
   "metadata": {},
   "outputs": [
    {
     "data": {
      "text/plain": [
       "1"
      ]
     },
     "execution_count": 63,
     "metadata": {},
     "output_type": "execute_result"
    }
   ],
   "source": [
    "data['bResult'][10]"
   ]
  },
  {
   "cell_type": "markdown",
   "metadata": {},
   "source": [
    "### For golddiff"
   ]
  },
  {
   "cell_type": "code",
   "execution_count": 199,
   "metadata": {},
   "outputs": [],
   "source": [
    "def process_gold(row):\n",
    "    gold_events = []\n",
    "    golddiff = ast.literal_eval(row['golddiff'])\n",
    "    for t in range(len(golddiff)):\n",
    "        gold_events.append((t, golddiff[t] // 100))\n",
    "    return gold_events"
   ]
  },
  {
   "cell_type": "code",
   "execution_count": 200,
   "metadata": {},
   "outputs": [
    {
     "name": "stderr",
     "output_type": "stream",
     "text": [
      "/Users/hezihang/opt/anaconda3/lib/python3.7/site-packages/ipykernel_launcher.py:1: SettingWithCopyWarning: \n",
      "A value is trying to be set on a copy of a slice from a DataFrame.\n",
      "Try using .loc[row_indexer,col_indexer] = value instead\n",
      "\n",
      "See the caveats in the documentation: https://pandas.pydata.org/pandas-docs/stable/user_guide/indexing.html#returning-a-view-versus-a-copy\n",
      "  \"\"\"Entry point for launching an IPython kernel.\n"
     ]
    }
   ],
   "source": [
    "data['gold_events'] = data.apply(process_gold, axis=1)"
   ]
  },
  {
   "cell_type": "code",
   "execution_count": 185,
   "metadata": {},
   "outputs": [],
   "source": [
    "def expand_rows_based_on_gold(original_df):\n",
    "    expanded_rows = []\n",
    "\n",
    "    for _, row in original_df.iterrows():\n",
    "        golddiff = ast.literal_eval(row['golddiff'])\n",
    "        \n",
    "        # Iterate through each kill event\n",
    "        for t in range(len(golddiff)):\n",
    "            new_row = row.to_dict()\n",
    "            \n",
    "            # Add the single_kill_event details for this kill\n",
    "            new_row['single_golddiff'] = (t, golddiff[t] // 100)\n",
    "            \n",
    "            # Append the modified row to the list of expanded rows\n",
    "            expanded_rows.append(new_row)\n",
    "    \n",
    "    # Create a new DataFrame from the expanded rows\n",
    "    expanded_df = pd.DataFrame(expanded_rows)\n",
    "    \n",
    "    return expanded_df"
   ]
  },
  {
   "cell_type": "code",
   "execution_count": 186,
   "metadata": {},
   "outputs": [],
   "source": [
    "data_expanded_golddiff = expand_rows_based_on_gold(train_data)"
   ]
  },
  {
   "cell_type": "code",
   "execution_count": 188,
   "metadata": {},
   "outputs": [],
   "source": [
    "def calculate_win_probability_golddiff(df, prev_state, curr_state, base_win_prob=0.5, gold_impact=0.5):\n",
    "\n",
    "    \n",
    "    matching_prev_state = df[df['single_golddiff'] == prev_state]\n",
    "    matching_curr_state = df[df['single_golddiff'] == curr_state]\n",
    "    wins_after_prev = matching_prev_state['bResult'].sum()\n",
    "    wins_after_curr = matching_curr_state['bResult'].sum()\n",
    "    total_prev = len(matching_prev_state)\n",
    "    total_curr = len(matching_curr_state)\n",
    "    \n",
    "    matching_indexes = matching_curr_state.index\n",
    "    prev_indexes = matching_indexes - 1\n",
    "    prev_rows = df.loc[prev_indexes]\n",
    "    count_matching_transfer = prev_rows[prev_rows['single_golddiff'] == prev_state]\n",
    "    count_matching_transfer_wins = count_matching_transfer[prev_rows['bResult'] == 1]\n",
    "    \n",
    "    \n",
    "    if count_matching_transfer.shape[0] == 0 and total_curr != 0:\n",
    "        P_C_given_B = wins_after_curr / total_curr\n",
    "        prob_combined = P_C_given_B * gold_impact + base_win_prob * (1 - gold_impact)\n",
    "        return prob_combined, P_C_given_B, P_C_given_B\n",
    "    elif total_curr == 0 and count_matching_transfer.shape[0] != 0:\n",
    "        final_prob = count_matching_transfer_wins.shape[0] / count_matching_transfer.shape[0]\n",
    "        prob_combined = final_prob * gold_impact + base_win_prob * (1 - gold_impact)\n",
    "        return prob_combined, final_prob, final_prob\n",
    "    elif total_curr == 0 and count_matching_transfer.shape[0] == 0:\n",
    "        return base_win_prob,base_win_prob,base_win_prob\n",
    "    \n",
    "    P_C_given_B = wins_after_curr / total_curr\n",
    "\n",
    "    final_prob = count_matching_transfer_wins.shape[0] / count_matching_transfer.shape[0]\n",
    "    \n",
    "    \n",
    "        \n",
    "    # print(final_prob)\n",
    "    \n",
    "    prob_combined = final_prob * gold_impact + base_win_prob * (1 - gold_impact)\n",
    "    prob_final_state = P_C_given_B\n",
    "    prob_computed = final_prob\n",
    "    \n",
    "    return prob_combined, prob_final_state, prob_computed\n",
    "    \n",
    "    "
   ]
  },
  {
   "cell_type": "markdown",
   "metadata": {},
   "source": [
    "### Combine"
   ]
  },
  {
   "cell_type": "code",
   "execution_count": 202,
   "metadata": {},
   "outputs": [],
   "source": [
    "def combine_and_label_events(row):\n",
    "\n",
    "    kill_events = [(timestamp, scores, 'k') for timestamp, scores in row['kill_events']]\n",
    "    dragon_events = [(timestamp, scores, 'd') for timestamp, scores in row['dragon_events']]\n",
    "    tower_events = [(timestamp, scores, 't') for timestamp, scores in row['tower_events']]\n",
    "    gold_events = [(timestamp, scores, 'g') for timestamp, scores in row['gold_events']]\n",
    "    all_events = kill_events + dragon_events + tower_events + gold_events\n",
    "\n",
    "    # Sort combined events by timestamp\n",
    "    all_events_sorted = sorted(all_events, key=lambda x: x[0])\n",
    "    \n",
    "    return all_events_sorted"
   ]
  },
  {
   "cell_type": "code",
   "execution_count": 203,
   "metadata": {},
   "outputs": [
    {
     "name": "stderr",
     "output_type": "stream",
     "text": [
      "/Users/hezihang/opt/anaconda3/lib/python3.7/site-packages/ipykernel_launcher.py:1: SettingWithCopyWarning: \n",
      "A value is trying to be set on a copy of a slice from a DataFrame.\n",
      "Try using .loc[row_indexer,col_indexer] = value instead\n",
      "\n",
      "See the caveats in the documentation: https://pandas.pydata.org/pandas-docs/stable/user_guide/indexing.html#returning-a-view-versus-a-copy\n",
      "  \"\"\"Entry point for launching an IPython kernel.\n"
     ]
    }
   ],
   "source": [
    "data['combined_events'] = data.apply(combine_and_label_events, axis=1)"
   ]
  },
  {
   "cell_type": "code",
   "execution_count": 213,
   "metadata": {},
   "outputs": [
    {
     "data": {
      "text/plain": [
       "[(0, 0, 'g'),\n",
       " (1, 0, 'g'),\n",
       " (2, -1, 'g'),\n",
       " (3, -1, 'g'),\n",
       " (4, -3, 'g'),\n",
       " (5, -5, 'g'),\n",
       " (6, -5, 'g'),\n",
       " (7, -8, 'g'),\n",
       " (8, -5, 'g'),\n",
       " (9, -7, 'g'),\n",
       " (10, -11, 'g'),\n",
       " (10.82, (0, 1), 'k'),\n",
       " (11, -4, 'g'),\n",
       " (12, -8, 'g'),\n",
       " (13, -7, 'g'),\n",
       " (14, -8, 'g'),\n",
       " (15, -7, 'g'),\n",
       " (15.014, (0, 1), 't'),\n",
       " (15.217, (0, 2), 't'),\n",
       " (15.288, (1, 2), 't'),\n",
       " (16, 2, 'g'),\n",
       " (16.286, (0, 2), 'k'),\n",
       " (16.529, (1, 2), 'k'),\n",
       " (16.556, (1, 3), 't'),\n",
       " (16.791, (2, 2), 'k'),\n",
       " (17, 8, 'g'),\n",
       " (17.14, (1, 0), 'd'),\n",
       " (17.237, (2, 3), 't'),\n",
       " (17.856, (2, 4), 't'),\n",
       " (18, 7, 'g'),\n",
       " (18.733, (2, 3), 'k'),\n",
       " (18.784, (3, 3), 'k'),\n",
       " (18.88, (3, 4), 'k'),\n",
       " (19, 14, 'g'),\n",
       " (20, 9, 'g'),\n",
       " (20.681, (3, 4), 't'),\n",
       " (21, 1, 'g'),\n",
       " (22, 4, 'g'),\n",
       " (23, 4, 'g'),\n",
       " (23.038, (3, 5), 't'),\n",
       " (24, 12, 'g'),\n",
       " (24.641, (2, 0), 'd'),\n",
       " (25, 15, 'g'),\n",
       " (26, 16, 'g'),\n",
       " (27, 18, 'g'),\n",
       " (27.005, (3, 5), 'k'),\n",
       " (27.029, (3, 6), 'k'),\n",
       " (27.073, (4, 6), 'k'),\n",
       " (27.109, (4, 7), 'k'),\n",
       " (27.542, (3, 6), 't')]"
      ]
     },
     "execution_count": 213,
     "metadata": {},
     "output_type": "execute_result"
    }
   ],
   "source": [
    "data['combined_events'][0][:50]"
   ]
  },
  {
   "cell_type": "code",
   "execution_count": 265,
   "metadata": {},
   "outputs": [],
   "source": [
    "train_data, test_data = train_test_split(data, test_size=0.1, random_state=42)"
   ]
  },
  {
   "cell_type": "code",
   "execution_count": 302,
   "metadata": {},
   "outputs": [],
   "source": [
    "def win_probability_combined(test_row = 1, prob = 0.5, print_result = True, time = 1000,hyperparams=[0.5,0.5,0.5,0.5]):\n",
    "\n",
    "    prob_lst = []\n",
    "    prob_final_lst = []\n",
    "    prob_computed_lst = []\n",
    "    time_lst = []\n",
    "    \n",
    "    idx_k = 0\n",
    "    idx_d = 0\n",
    "    idx_t = 0\n",
    "    idx_g = 0\n",
    "    \n",
    "    for i in range( len(data['combined_events'][test_row]) - 1 ):\n",
    "        combine_event = data['combined_events'][test_row][i]\n",
    "        event_type = combine_event[-1]\n",
    "        combine_time = combine_event[0] // timeval\n",
    "        combine = combine_event[1]\n",
    "        state = (combine_time, combine)\n",
    "        \n",
    "        \n",
    "        if combine_time > time:\n",
    "            break\n",
    "        \n",
    "        if event_type == 'k':\n",
    "            idx_k += 1\n",
    "            if idx_k >= len(data['kill_events'][test_row]):\n",
    "                continue\n",
    "            combine_event_curr = data['kill_events'][test_row][idx_k]\n",
    "            combine_time_curr = combine_event_curr[0] // timeval\n",
    "            combine_curr = combine_event_curr[1]\n",
    "            state_curr = (combine_time_curr, combine_curr)\n",
    "\n",
    "        if event_type == 'd':\n",
    "            idx_d += 1\n",
    "            if idx_d >= len(data['dragon_events'][test_row]):\n",
    "                continue\n",
    "            combine_event_curr = data['dragon_events'][test_row][idx_d]\n",
    "            combine_time_curr = combine_event_curr[0] // timeval\n",
    "            combine_curr = combine_event_curr[1]\n",
    "            state_curr = (combine_time_curr, combine_curr)\n",
    "            \n",
    "        if event_type == 't':\n",
    "            idx_t += 1\n",
    "            if idx_t >= len(data['tower_events'][test_row]):\n",
    "                continue\n",
    "            combine_event_curr = data['tower_events'][test_row][idx_t]\n",
    "            combine_time_curr = combine_event_curr[0] // timeval\n",
    "            combine_curr = combine_event_curr[1]\n",
    "            state_curr = (combine_time_curr, combine_curr)\n",
    "            \n",
    "        \n",
    "        if event_type == 'g':\n",
    "            idx_g += 1\n",
    "            if idx_g >= len(data['gold_events'][test_row]):\n",
    "                continue\n",
    "            combine_event_curr = data['gold_events'][test_row][idx_g]\n",
    "            combine_time_curr = combine_event_curr[0] // timeval\n",
    "            combine_curr = combine_event_curr[1]\n",
    "            state_curr = (combine_time_curr, combine_curr)    \n",
    "        \n",
    "        \n",
    "        if event_type == 'k':\n",
    "            prob, prob_final_state, prob_computed = calculate_win_probability_kill(data_expanded_kills, state, state_curr, prob, hyperparams[0])\n",
    "        if event_type == 'd':\n",
    "            prob, prob_final_state, prob_computed = calculate_win_probability_dragon(data_expanded_dragons, state, state_curr, prob, hyperparams[1])\n",
    "        if event_type == 't':\n",
    "            prob, prob_final_state, prob_computed = calculate_win_probability_tower(data_expanded_towers, state, state_curr, prob, hyperparams[2])\n",
    "        if event_type == 'g':\n",
    "            prob, prob_final_state, prob_computed = calculate_win_probability_golddiff(data_expanded_golddiff, state, state_curr, prob, hyperparams[3])\n",
    "            \n",
    "        prob_lst.append(prob)\n",
    "        prob_final_lst.append(prob_final_state)\n",
    "        prob_computed_lst.append(prob_computed)\n",
    "        time_lst.append(combine_event[0])\n",
    "        \n",
    "        if print_result:\n",
    "            print(combine_event, combine_event_curr, prob)\n",
    "\n",
    "    final_result = data['bResult'][test_row]\n",
    "    \n",
    "    # if print_result:\n",
    "    #     print(final_result)\n",
    "    \n",
    "    return prob_lst, prob_final_lst, prob_computed_lst, time_lst\n",
    "    \n",
    "    "
   ]
  },
  {
   "cell_type": "code",
   "execution_count": 172,
   "metadata": {},
   "outputs": [],
   "source": [
    "def compare_results_combined(df=data, k=100, time=30, hyperparams=[0.5,0.5,0.5]):\n",
    "    combined_sum = 0\n",
    "    final_sum = 0\n",
    "    computed_sum = 0\n",
    "    \n",
    "    total_runs = 0\n",
    "\n",
    "    for i in range(k):\n",
    "        if df.iloc[i]['combined_events'][0][0] > time: # if no events happens before time_to_pred\n",
    "                continue\n",
    "        \n",
    "        idx = df.index[i]\n",
    "\n",
    "        prob_lst, prob_final_lst, prob_computed_lst = win_probability_combined(test_row=idx, print_result=False, time=time, hyperparams=hyperparams)\n",
    "        \n",
    "        if (prob_lst[-1] < 0.5 and df.iloc[i]['bResult'] == 0) or (prob_lst[-1] >= 0.5 and df.iloc[i]['bResult'] == 1):\n",
    "            combined_sum += 1\n",
    "        if (prob_final_lst[-1] < 0.5 and df.iloc[i]['bResult'] == 0) or (prob_final_lst[-1] >= 0.5 and df.iloc[i]['bResult'] == 1):\n",
    "            final_sum += 1\n",
    "        if (prob_computed_lst[-1] < 0.5 and df.iloc[i]['bResult'] == 0) or (prob_computed_lst[-1] >= 0.5 and df.iloc[i]['bResult'] == 1):\n",
    "            computed_sum += 1\n",
    "            \n",
    "        total_runs += 1\n",
    "            \n",
    "    return combined_sum, final_sum, computed_sum, total_runs\n",
    "    \n",
    "    "
   ]
  },
  {
   "cell_type": "code",
   "execution_count": 218,
   "metadata": {},
   "outputs": [
    {
     "name": "stderr",
     "output_type": "stream",
     "text": [
      "/Users/hezihang/opt/anaconda3/lib/python3.7/site-packages/ipykernel_launcher.py:15: UserWarning: Boolean Series key will be reindexed to match DataFrame index.\n",
      "  from ipykernel import kernelapp as app\n",
      "/Users/hezihang/opt/anaconda3/lib/python3.7/site-packages/ipykernel_launcher.py:29: UserWarning: Boolean Series key will be reindexed to match DataFrame index.\n",
      "/Users/hezihang/opt/anaconda3/lib/python3.7/site-packages/ipykernel_launcher.py:30: UserWarning: Boolean Series key will be reindexed to match DataFrame index.\n"
     ]
    },
    {
     "data": {
      "text/plain": [
       "((8, 7, 7, 10), (9, 7, 8, 10))"
      ]
     },
     "execution_count": 218,
     "metadata": {},
     "output_type": "execute_result"
    }
   ],
   "source": [
    "test = compare_results_combined(df=test_data,k=10, time=20, hyperparams=[0.5,0.1,0.1,0.2])\n",
    "train = compare_results_combined(df=data,k=10, time=20, hyperparams=[0.5,0.1,0.1,0.2])\n",
    "test, train"
   ]
  },
  {
   "cell_type": "code",
   "execution_count": 232,
   "metadata": {},
   "outputs": [
    {
     "name": "stderr",
     "output_type": "stream",
     "text": [
      "/Users/hezihang/opt/anaconda3/lib/python3.7/site-packages/ipykernel_launcher.py:15: UserWarning: Boolean Series key will be reindexed to match DataFrame index.\n",
      "  from ipykernel import kernelapp as app\n",
      "/Users/hezihang/opt/anaconda3/lib/python3.7/site-packages/ipykernel_launcher.py:29: UserWarning: Boolean Series key will be reindexed to match DataFrame index.\n",
      "/Users/hezihang/opt/anaconda3/lib/python3.7/site-packages/ipykernel_launcher.py:30: UserWarning: Boolean Series key will be reindexed to match DataFrame index.\n"
     ]
    },
    {
     "name": "stdout",
     "output_type": "stream",
     "text": [
      "(39, 36, 37, 50)\n",
      "(40, 40, 38, 50)\n",
      "(42, 42, 42, 50)\n",
      "(46, 43, 43, 50)\n",
      "(43, 43, 43, 50)\n",
      "(45, 45, 46, 50)\n",
      "(45, 45, 46, 50)\n"
     ]
    }
   ],
   "source": [
    "r_lst = []\n",
    "for t in range(15,50,5):\n",
    "    r = compare_results_combined(df=test_data, k=50, time=t, hyperparams=[0.5,0.1,0.1,0.7])\n",
    "    print(r)\n",
    "    r_lst.append(r)"
   ]
  },
  {
   "cell_type": "code",
   "execution_count": 225,
   "metadata": {},
   "outputs": [
    {
     "data": {
      "text/plain": [
       "[(39, 36, 37, 50),\n",
       " (37, 39, 39, 50),\n",
       " (40, 43, 39, 50),\n",
       " (42, 42, 42, 50),\n",
       " (39, 40, 41, 50),\n",
       " (42, 42, 42, 50),\n",
       " (43, 42, 40, 50),\n",
       " (44, 45, 43, 50)]"
      ]
     },
     "execution_count": 225,
     "metadata": {},
     "output_type": "execute_result"
    }
   ],
   "source": [
    "r_lst"
   ]
  },
  {
   "cell_type": "code",
   "execution_count": 241,
   "metadata": {},
   "outputs": [
    {
     "data": {
      "image/png": "[encoded data removed]",
      "text/plain": [
       "<Figure size 1500x500 with 8 Axes>"
      ]
     },
     "metadata": {},
     "output_type": "display_data"
    }
   ],
   "source": [
    "\n",
    "\n",
    "# Calculate probabilities\n",
    "probabilities = [np.array(t[:3])/t[3] for t in r_lst[:4]]\n",
    "\n",
    "# Plotting\n",
    "fig, axs = plt.subplots(1, 8, figsize=(15, 5), sharey=True)\n",
    "\n",
    "for i, prob in enumerate(probabilities):\n",
    "    axs[i].bar(['f(A->B)','B','A->B'], prob, color=['cornflowerblue', 'royalblue', 'blue'])\n",
    "    axs[i].set_title(f'Timestamp {i*5+15}')\n",
    "    axs[i].set_ylim(0, 1)  # Ensure y-axis is the same for all to make comparison easier\n",
    "    axs[i].set_ylabel('Probability')\n",
    "\n",
    "plt.tight_layout()\n",
    "plt.show()"
   ]
  },
  {
   "cell_type": "code",
   "execution_count": 177,
   "metadata": {},
   "outputs": [
    {
     "name": "stderr",
     "output_type": "stream",
     "text": [
      "/Users/hezihang/opt/anaconda3/lib/python3.7/site-packages/ipykernel_launcher.py:29: UserWarning: Boolean Series key will be reindexed to match DataFrame index.\n",
      "/Users/hezihang/opt/anaconda3/lib/python3.7/site-packages/ipykernel_launcher.py:30: UserWarning: Boolean Series key will be reindexed to match DataFrame index.\n"
     ]
    },
    {
     "data": {
      "text/plain": [
       "((86, 86, 83, 100), (91, 82, 88, 100))"
      ]
     },
     "execution_count": 177,
     "metadata": {},
     "output_type": "execute_result"
    }
   ],
   "source": [
    "test = compare_results_combined(df=test_data, k=100, time=30, hyperparams=[0.5,0.1,0.1,0.2])\n",
    "train = compare_results_combined(k=100, time=30, hyperparams=[0.5,0.1,0.1,0.2])\n",
    "test, train"
   ]
  },
  {
   "cell_type": "code",
   "execution_count": 221,
   "metadata": {},
   "outputs": [
    {
     "name": "stderr",
     "output_type": "stream",
     "text": [
      "/Users/hezihang/opt/anaconda3/lib/python3.7/site-packages/ipykernel_launcher.py:15: UserWarning: Boolean Series key will be reindexed to match DataFrame index.\n",
      "  from ipykernel import kernelapp as app\n",
      "/Users/hezihang/opt/anaconda3/lib/python3.7/site-packages/ipykernel_launcher.py:29: UserWarning: Boolean Series key will be reindexed to match DataFrame index.\n",
      "/Users/hezihang/opt/anaconda3/lib/python3.7/site-packages/ipykernel_launcher.py:30: UserWarning: Boolean Series key will be reindexed to match DataFrame index.\n"
     ]
    },
    {
     "data": {
      "text/plain": [
       "((89, 89, 86, 100), (88, 89, 86, 100), (89, 89, 86, 100))"
      ]
     },
     "execution_count": 221,
     "metadata": {},
     "output_type": "execute_result"
    }
   ],
   "source": [
    "cmp_1 = compare_results_combined(df=test_data, k=100, time=30, hyperparams=[0.5,0.1,0.1,0.8])\n",
    "cmp_2 = compare_results_combined(df=test_data, k=100, time=30, hyperparams=[0.5,0.1,0.1,0.9])\n",
    "cmp_7 = compare_results_combined(df=test_data, k=100, time=30, hyperparams=[0.5,0.1,0.1,0.7])\n",
    "cmp_1,cmp_2,cmp_7"
   ]
  },
  {
   "cell_type": "code",
   "execution_count": 88,
   "metadata": {},
   "outputs": [
    {
     "name": "stderr",
     "output_type": "stream",
     "text": [
      "/Users/hezihang/opt/anaconda3/lib/python3.7/site-packages/ipykernel_launcher.py:30: UserWarning: Boolean Series key will be reindexed to match DataFrame index.\n",
      "/Users/hezihang/opt/anaconda3/lib/python3.7/site-packages/ipykernel_launcher.py:29: UserWarning: Boolean Series key will be reindexed to match DataFrame index.\n"
     ]
    },
    {
     "data": {
      "text/plain": [
       "((177, 149, 165, 200),\n",
       " (177, 149, 165, 200),\n",
       " (177, 149, 165, 200),\n",
       " (174, 149, 165, 200),\n",
       " (177, 149, 166, 200),\n",
       " (178, 149, 166, 200),\n",
       " (178, 149, 166, 200),\n",
       " (178, 149, 166, 200))"
      ]
     },
     "execution_count": 88,
     "metadata": {},
     "output_type": "execute_result"
    }
   ],
   "source": [
    "cmp_1 = compare_results_combined(k=200, time=20, hyperparams=[0.5,0.1,0.1])\n",
    "cmp_2 = compare_results_combined(k=200, time=20, hyperparams=[0.5,0.1,0.2])\n",
    "cmp_3 = compare_results_combined(k=200, time=20, hyperparams=[0.5,0.2,0.1])\n",
    "cmp_4 = compare_results_combined(k=200, time=20, hyperparams=[0.6,0.1,0.1])\n",
    "cmp_5 = compare_results_combined(k=200, time=20, hyperparams=[0.4,0.1,0.1])\n",
    "cmp_6 = compare_results_combined(k=200, time=20, hyperparams=[0.3,0.1,0.1])\n",
    "cmp_7 = compare_results_combined(k=200, time=20, hyperparams=[0.3,0.05,0.1])\n",
    "cmp_8 = compare_results_combined(k=200, time=20, hyperparams=[0.3,0.05,0.1])\n",
    "\n",
    "cmp_1,cmp_2,cmp_3,cmp_4,cmp_5,cmp_6,cmp_7,cmp_8"
   ]
  },
  {
   "cell_type": "code",
   "execution_count": 89,
   "metadata": {},
   "outputs": [
    {
     "data": {
      "text/plain": [
       "0.885"
      ]
     },
     "execution_count": 89,
     "metadata": {},
     "output_type": "execute_result"
    }
   ],
   "source": [
    "177/200"
   ]
  },
  {
   "cell_type": "code",
   "execution_count": 135,
   "metadata": {},
   "outputs": [
    {
     "name": "stderr",
     "output_type": "stream",
     "text": [
      "/Users/hezihang/opt/anaconda3/lib/python3.7/site-packages/ipykernel_launcher.py:30: UserWarning: Boolean Series key will be reindexed to match DataFrame index.\n",
      "/Users/hezihang/opt/anaconda3/lib/python3.7/site-packages/ipykernel_launcher.py:29: UserWarning: Boolean Series key will be reindexed to match DataFrame index.\n"
     ]
    },
    {
     "data": {
      "text/plain": [
       "(82, 74, 79, 100)"
      ]
     },
     "execution_count": 135,
     "metadata": {},
     "output_type": "execute_result"
    }
   ],
   "source": [
    "# 0.5, 0.5, 0.5\n",
    "\n",
    "cmp_20 = compare_results_combined(k=100, time=20) #(82, 74, 79, 100)\n",
    "cmp_30 = compare_results_combined(k=100, time=30) #(88, 82, 83, 100)\n"
   ]
  },
  {
   "cell_type": "code",
   "execution_count": 137,
   "metadata": {},
   "outputs": [
    {
     "name": "stderr",
     "output_type": "stream",
     "text": [
      "/Users/hezihang/opt/anaconda3/lib/python3.7/site-packages/ipykernel_launcher.py:30: UserWarning: Boolean Series key will be reindexed to match DataFrame index.\n",
      "/Users/hezihang/opt/anaconda3/lib/python3.7/site-packages/ipykernel_launcher.py:29: UserWarning: Boolean Series key will be reindexed to match DataFrame index.\n"
     ]
    },
    {
     "data": {
      "text/plain": [
       "(88, 82, 83, 100)"
      ]
     },
     "execution_count": 137,
     "metadata": {},
     "output_type": "execute_result"
    }
   ],
   "source": [
    "compare_results_combined(k=10, time=30)"
   ]
  },
  {
   "cell_type": "code",
   "execution_count": 303,
   "metadata": {},
   "outputs": [
    {
     "name": "stderr",
     "output_type": "stream",
     "text": [
      "/Users/hezihang/opt/anaconda3/lib/python3.7/site-packages/ipykernel_launcher.py:15: UserWarning: Boolean Series key will be reindexed to match DataFrame index.\n",
      "  from ipykernel import kernelapp as app\n",
      "/Users/hezihang/opt/anaconda3/lib/python3.7/site-packages/ipykernel_launcher.py:29: UserWarning: Boolean Series key will be reindexed to match DataFrame index.\n",
      "/Users/hezihang/opt/anaconda3/lib/python3.7/site-packages/ipykernel_launcher.py:30: UserWarning: Boolean Series key will be reindexed to match DataFrame index.\n"
     ]
    }
   ],
   "source": [
    "p_lst = win_probability_combined(test_row=1430, print_result=False, time=50, hyperparams=[0.2,0.05,0.05,0.2])\n"
   ]
  },
  {
   "cell_type": "code",
   "execution_count": 284,
   "metadata": {},
   "outputs": [
    {
     "data": {
      "text/plain": [
       "(99, 95, 95)"
      ]
     },
     "execution_count": 284,
     "metadata": {},
     "output_type": "execute_result"
    }
   ],
   "source": [
    "len(test_data['combined_events'][1430]), len(p_lst[0]), len(p_lst[-1])"
   ]
  },
  {
   "cell_type": "code",
   "execution_count": 307,
   "metadata": {},
   "outputs": [],
   "source": [
    "\n",
    "# Directory to save frames, ensure it exists\n",
    "frames_dir = './frames/'\n",
    "os.makedirs(frames_dir, exist_ok=True)\n",
    "reference_line_value = 0.5\n",
    "for i in range(len(p_lst[0])):\n",
    "    plt.figure(figsize=(10, 6))\n",
    "    x_values = p_lst[-1][:i+1]\n",
    "    y_values = p_lst[0][:i+1]\n",
    "\n",
    "    # Plot the line\n",
    "    plt.plot(x_values, y_values, color='white')  # Black line without markers for clarity\n",
    "\n",
    "    # Fill below the line with transparent blue\n",
    "    plt.fill_between(x_values, y_values, 0, color='blue', alpha=0.3)\n",
    "\n",
    "    # Fill above the line with transparent red\n",
    "    plt.fill_between(x_values, y_values, 1, color='red', alpha=0.3)\n",
    "    \n",
    "    # Ensure the x-axis represents the total count of time points\n",
    "    plt.xlim(0, 50)\n",
    "    plt.ylim(0, 1)  # Assuming probabilities are between 0 and 1\n",
    "    plt.xlabel('Time')\n",
    "    plt.ylabel('Probability')\n",
    "    plt.title('Blue Team Win Probability Change Over Time')\n",
    "    plt.grid(True)  # Optional: Adds a grid for better visibility\n",
    "    frame_path = f'{frames_dir}frame_{i:03d}.png'\n",
    "    plt.savefig(frame_path)\n",
    "    plt.close()"
   ]
  },
  {
   "cell_type": "code",
   "execution_count": 308,
   "metadata": {},
   "outputs": [
    {
     "data": {
      "text/plain": [
       "1321    [(0, 0, g), (1, 0, g), (2, 0, g), (3, 2, g), (...\n",
       "3520    [(0, 0, g), (1, 0, g), (2, 0, g), (2.656, (0, ...\n",
       "3176    [(0, 0, g), (1, 0, g), (2, 0, g), (3, 0, g), (...\n",
       "132     [(0, 0, g), (1, 0, g), (2, 0, g), (3, 1, g), (...\n",
       "1430    [(0, 0, g), (1, 0, g), (2, 1, g), (3, 2, g), (...\n",
       "                              ...                        \n",
       "3774    [(0, 0, g), (1, 0, g), (2, -1, g), (3, 0, g), ...\n",
       "168     [(0, 0, g), (1, 0, g), (2, 0, g), (3, 0, g), (...\n",
       "1215    [(0, 0, g), (1, 0, g), (2, -1, g), (3, -2, g),...\n",
       "3973    [(0, 0, g), (1, 0, g), (2, -1, g), (3, -1, g),...\n",
       "4269    [(0, 0, g), (1, 0, g), (2, 0, g), (3, -3, g), ...\n",
       "Name: combined_events, Length: 762, dtype: object"
      ]
     },
     "execution_count": 308,
     "metadata": {},
     "output_type": "execute_result"
    }
   ],
   "source": [
    "test_data['combined_events']"
   ]
  },
  {
   "cell_type": "code",
   "execution_count": 309,
   "metadata": {},
   "outputs": [
    {
     "data": {
      "text/plain": [
       "[(21, -3, 'g'),\n",
       " (21.837, (6, 3), 'k'),\n",
       " (22, -9, 'g'),\n",
       " (23, -11, 'g'),\n",
       " (24, -9, 'g'),\n",
       " (25, -8, 'g'),\n",
       " (26, -12, 'g'),\n",
       " (27, -11, 'g'),\n",
       " (27.359, (7, 3), 'k'),\n",
       " (27.673, (1, 2), 'd'),\n",
       " (28, -11, 'g'),\n",
       " (28.677, (8, 3), 'k'),\n",
       " (28.789, (9, 3), 'k'),\n",
       " (29, -21, 'g'),\n",
       " (30, -40, 'g'),\n",
       " (30.845, (5, 5), 't'),\n",
       " (31, -56, 'g'),\n",
       " (31.428, (9, 4), 'k'),\n",
       " (32, -49, 'g'),\n",
       " (32.114, (9, 5), 'k'),\n",
       " (33, -37, 'g'),\n",
       " (34, -34, 'g'),\n",
       " (34.024, (2, 2), 'd'),\n",
       " (34.836, (10, 5), 'k'),\n",
       " (34.909, (11, 5), 'k'),\n",
       " (35, -41, 'g'),\n",
       " (35.126, (6, 5), 't'),\n",
       " (36, -49, 'g'),\n",
       " (37, -48, 'g'),\n",
       " (37.639, (11, 6), 'k'),\n",
       " (37.674, (12, 6), 'k'),\n",
       " (37.834, (12, 7), 'k'),\n",
       " (38, -44, 'g'),\n",
       " (39, -37, 'g'),\n",
       " (39.277, (13, 7), 'k'),\n",
       " (39.396, (14, 7), 'k'),\n",
       " (40, -55, 'g'),\n",
       " (40.018, (7, 5), 't'),\n",
       " (40.593, (3, 2), 'd'),\n",
       " (41, -61, 'g'),\n",
       " (41.024, (15, 7), 'k'),\n",
       " (41.075, (16, 7), 'k'),\n",
       " (41.087, (16, 8), 'k'),\n",
       " (41.196, (17, 8), 'k'),\n",
       " (41.221, (17, 9), 'k'),\n",
       " (41.235, (17, 10), 'k'),\n",
       " (41.341, (17, 11), 'k'),\n",
       " (41.389, (17, 12), 'k'),\n",
       " (42, -31, 'g'),\n",
       " (42.004, (7, 6), 't'),\n",
       " (42.79, (18, 12), 'k'),\n",
       " (43, -34, 'g'),\n",
       " (43.273, (8, 6), 't'),\n",
       " (43.428, (18, 13), 'k'),\n",
       " (43.467, (19, 13), 'k'),\n",
       " (43.471, (19, 14), 'k'),\n",
       " (43.501, (20, 14), 'k'),\n",
       " (43.707, (9, 6), 't'),\n",
       " (43.774, (21, 14), 'k')]"
      ]
     },
     "execution_count": 309,
     "metadata": {},
     "output_type": "execute_result"
    }
   ],
   "source": [
    "test_data['combined_events'][1430][40:]"
   ]
  },
  {
   "cell_type": "code",
   "execution_count": 306,
   "metadata": {},
   "outputs": [
    {
     "name": "stdout",
     "output_type": "stream",
     "text": [
      "28 0.27694720698471176\n",
      "28.677 0.27610322013322397\n",
      "28.789 0.25724621247021556\n",
      "29 0.21829696997617248\n",
      "30 0.174637575980938\n",
      "30.845 0.16590569718189108\n",
      "31 0.14872455774551285\n",
      "31.428 0.17282580004256415\n",
      "32 0.3382606400340513\n",
      "32.114 0.27060851202724107\n",
      "33 0.26866072266527113\n",
      "34 0.2149285781322169\n",
      "34.024 0.2125154825589394\n",
      "34.836 0.17001238604715152\n",
      "34.909 0.16934324217105454\n",
      "35 0.33547459373684363\n",
      "35.126 0.3276294354785729\n",
      "36 0.46210354838285833\n",
      "37 0.40968283870628674\n",
      "37.639 0.3277462709650294\n",
      "37.674 0.2621970167720235\n",
      "37.834 0.2097576134176188\n",
      "38 0.25669497962298393\n",
      "39 0.23392741226981573\n",
      "39.277 0.1871419298158526\n",
      "39.396 0.14971354385268207\n",
      "40 0.153104168415479\n",
      "40.018 0.16066635129905285\n",
      "41 0.19519974770590898\n",
      "41.024 0.1561597981647272\n",
      "41.075 0.12492783853178176\n",
      "41.087 0.09994227082542541\n",
      "41.196 0.07995381666034033\n",
      "41.221 0.06396305332827228\n",
      "41.235 0.051170442662617825\n",
      "41.341 0.04093635413009426\n",
      "41.389 0.13274908330407542\n",
      "42 0.14619926664326036\n",
      "42.004 0.145555969977764\n",
      "42.79 0.1164447759822112\n",
      "43.273 0.11062253718310064\n",
      "43.428 0.08849802974648052\n",
      "43.467 0.07079842379718441\n",
      "43.471 0.056638739037747535\n",
      "43.501 0.24531099123019803\n"
     ]
    }
   ],
   "source": [
    "for i in range(50,len(p_lst[0])):\n",
    "    print(p_lst[-1][i], p_lst[0][i])"
   ]
  },
  {
   "cell_type": "code",
   "execution_count": null,
   "metadata": {},
   "outputs": [],
   "source": []
  }
 ],
 "metadata": {
  "kernelspec": {
   "display_name": "Python 3.7.10 ('base')",
   "language": "python",
   "name": "python3"
  },
  "language_info": {
   "codemirror_mode": {
    "name": "ipython",
    "version": 3
   },
   "file_extension": ".py",
   "mimetype": "text/x-python",
   "name": "python",
   "nbconvert_exporter": "python",
   "pygments_lexer": "ipython3",
   "version": "3.7.10"
  },
  "orig_nbformat": 4,
  "vscode": {
   "interpreter": {
    "hash": "0860b0b95206120fc5a0c05f120b5f75e158483fcba31b0c1d2873c7467918d1"
   }
  }
 },
 "nbformat": 4,
 "nbformat_minor": 2
}
